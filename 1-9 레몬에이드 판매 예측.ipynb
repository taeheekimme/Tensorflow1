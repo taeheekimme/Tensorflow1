{
  "nbformat": 4,
  "nbformat_minor": 0,
  "metadata": {
    "colab": {
      "name": "1-7. 레몬에이드 판매 예측",
      "provenance": [],
      "collapsed_sections": []
    },
    "kernelspec": {
      "name": "python3",
      "display_name": "Python 3"
    }
  },
  "cells": [
    {
      "cell_type": "code",
      "metadata": {
        "id": "nEEBKLL6ZHZe",
        "colab_type": "code",
        "colab": {}
      },
      "source": [
        "import tensorflow as tf\n",
        "import pandas as pd"
      ],
      "execution_count": 1,
      "outputs": []
    },
    {
      "cell_type": "markdown",
      "metadata": {
        "id": "v6hCOvFyalRA",
        "colab_type": "text"
      },
      "source": [
        "## 데이터 불러오기"
      ]
    },
    {
      "cell_type": "code",
      "metadata": {
        "id": "0E37C29d3BDl",
        "colab_type": "code",
        "colab": {
          "base_uri": "https://localhost:8080/",
          "height": 197
        },
        "outputId": "8920e782-e45f-4057-9bd3-ea7f4a2fc07a"
      },
      "source": [
        "파일경로 = 'https://raw.githubusercontent.com/blackdew/tensorflow1/master/csv/lemonade.csv'\n",
        "레모네이드 = pd.read_csv(파일경로)\n",
        "레모네이드.head()"
      ],
      "execution_count": 2,
      "outputs": [
        {
          "output_type": "execute_result",
          "data": {
            "text/html": [
              "<div>\n",
              "<style scoped>\n",
              "    .dataframe tbody tr th:only-of-type {\n",
              "        vertical-align: middle;\n",
              "    }\n",
              "\n",
              "    .dataframe tbody tr th {\n",
              "        vertical-align: top;\n",
              "    }\n",
              "\n",
              "    .dataframe thead th {\n",
              "        text-align: right;\n",
              "    }\n",
              "</style>\n",
              "<table border=\"1\" class=\"dataframe\">\n",
              "  <thead>\n",
              "    <tr style=\"text-align: right;\">\n",
              "      <th></th>\n",
              "      <th>온도</th>\n",
              "      <th>판매량</th>\n",
              "    </tr>\n",
              "  </thead>\n",
              "  <tbody>\n",
              "    <tr>\n",
              "      <th>0</th>\n",
              "      <td>20</td>\n",
              "      <td>40</td>\n",
              "    </tr>\n",
              "    <tr>\n",
              "      <th>1</th>\n",
              "      <td>21</td>\n",
              "      <td>42</td>\n",
              "    </tr>\n",
              "    <tr>\n",
              "      <th>2</th>\n",
              "      <td>22</td>\n",
              "      <td>44</td>\n",
              "    </tr>\n",
              "    <tr>\n",
              "      <th>3</th>\n",
              "      <td>23</td>\n",
              "      <td>46</td>\n",
              "    </tr>\n",
              "    <tr>\n",
              "      <th>4</th>\n",
              "      <td>24</td>\n",
              "      <td>48</td>\n",
              "    </tr>\n",
              "  </tbody>\n",
              "</table>\n",
              "</div>"
            ],
            "text/plain": [
              "   온도  판매량\n",
              "0  20   40\n",
              "1  21   42\n",
              "2  22   44\n",
              "3  23   46\n",
              "4  24   48"
            ]
          },
          "metadata": {
            "tags": []
          },
          "execution_count": 2
        }
      ]
    },
    {
      "cell_type": "markdown",
      "metadata": {
        "id": "OABRBFrGaXnz",
        "colab_type": "text"
      },
      "source": [
        "## 종속변수, 독립변수 분리"
      ]
    },
    {
      "cell_type": "code",
      "metadata": {
        "id": "i5eCfPsAu1BQ",
        "colab_type": "code",
        "colab": {
          "base_uri": "https://localhost:8080/",
          "height": 34
        },
        "outputId": "4fbb8569-5680-417d-cc7a-9fc48982c1a0"
      },
      "source": [
        "독립 = 레모네이드[['온도']]\n",
        "종속 = 레모네이드[['판매량']]\n",
        "print(독립.shape, 종속.shape)"
      ],
      "execution_count": 3,
      "outputs": [
        {
          "output_type": "stream",
          "text": [
            "(6, 1) (6, 1)\n"
          ],
          "name": "stdout"
        }
      ]
    },
    {
      "cell_type": "markdown",
      "metadata": {
        "id": "Blt5LFxnaZv1",
        "colab_type": "text"
      },
      "source": [
        "## 모델 생성"
      ]
    },
    {
      "cell_type": "code",
      "metadata": {
        "id": "X-Q2Wp6qZFaR",
        "colab_type": "code",
        "colab": {}
      },
      "source": [
        "X = tf.keras.layers.Input(shape=[1])  # shape=[1]: 독립변수인 '온도'칼럼 1개\n",
        "Y = tf.keras.layers.Dense(1)(X)       # Dense(1): 종속변수인 '판매량'칼럼 1개\n",
        "model = tf.keras.models.Model(X, Y)   # X,Y넣어 모델 완성\n",
        "model.compile(loss='mse')             # compile: 모델이 학습할 방법"
      ],
      "execution_count": 4,
      "outputs": []
    },
    {
      "cell_type": "markdown",
      "metadata": {
        "id": "ipMkKfiNadeh",
        "colab_type": "text"
      },
      "source": [
        "## 모델 학습"
      ]
    },
    {
      "cell_type": "markdown",
      "metadata": {
        "id": "a7GYse8OczUS",
        "colab_type": "text"
      },
      "source": [
        "- loss부분은 학습이 얼마나 진행되었는지 알 수 있음\n",
        "-  각 학습이 끝날때마다 그 시점의 모델이 얼마나 정답에 근접했는지 알 수 있는 지표\n",
        "- loss = (예측한 '판매량' - 정답인 '판매량')^2의 평균\n",
        "- 학습 횟수가 많아질수록 loss가 0에 가까워지고 학습이 잘 된 것\n",
        "\n"
      ]
    },
    {
      "cell_type": "code",
      "metadata": {
        "id": "gqpGZZ6YZMTB",
        "colab_type": "code",
        "colab": {
          "base_uri": "https://localhost:8080/",
          "height": 384
        },
        "outputId": "156d8413-360e-4c4f-bbdd-4fc1681b55f5"
      },
      "source": [
        "model.fit(독립, 종속, epochs=10)   # epochs: 학습할 횟수\n",
        "# loss부분이 3498로 크게 나옴 -> 10번 학습한 모델이 정답을 맞추기에는 부족한 것"
      ],
      "execution_count": 5,
      "outputs": [
        {
          "output_type": "stream",
          "text": [
            "Epoch 1/10\n",
            "1/1 [==============================] - 0s 1ms/step - loss: 3088.8762\n",
            "Epoch 2/10\n",
            "1/1 [==============================] - 0s 840us/step - loss: 3080.5996\n",
            "Epoch 3/10\n",
            "1/1 [==============================] - 0s 875us/step - loss: 3074.6057\n",
            "Epoch 4/10\n",
            "1/1 [==============================] - 0s 1ms/step - loss: 3069.5938\n",
            "Epoch 5/10\n",
            "1/1 [==============================] - 0s 1ms/step - loss: 3065.1492\n",
            "Epoch 6/10\n",
            "1/1 [==============================] - 0s 913us/step - loss: 3061.0798\n",
            "Epoch 7/10\n",
            "1/1 [==============================] - 0s 1ms/step - loss: 3057.2786\n",
            "Epoch 8/10\n",
            "1/1 [==============================] - 0s 3ms/step - loss: 3053.6794\n",
            "Epoch 9/10\n",
            "1/1 [==============================] - 0s 5ms/step - loss: 3050.2366\n",
            "Epoch 10/10\n",
            "1/1 [==============================] - 0s 2ms/step - loss: 3046.9197\n"
          ],
          "name": "stdout"
        },
        {
          "output_type": "execute_result",
          "data": {
            "text/plain": [
              "<tensorflow.python.keras.callbacks.History at 0x7f494d5357b8>"
            ]
          },
          "metadata": {
            "tags": []
          },
          "execution_count": 5
        }
      ]
    },
    {
      "cell_type": "code",
      "metadata": {
        "id": "mRtekC7vcv-a",
        "colab_type": "code",
        "colab": {
          "base_uri": "https://localhost:8080/",
          "height": 34
        },
        "outputId": "28d7f08f-0f36-44db-b4c8-52904ffb2bf1"
      },
      "source": [
        "model.fit(독립, 종속, epochs=10000, verbose=0)  # verbose=0: 10000번 학습시키면 출력물이 너무 많이 나오므로 나오지 않게끔 설정"
      ],
      "execution_count": 6,
      "outputs": [
        {
          "output_type": "execute_result",
          "data": {
            "text/plain": [
              "<tensorflow.python.keras.callbacks.History at 0x7f494aef3eb8>"
            ]
          },
          "metadata": {
            "tags": []
          },
          "execution_count": 6
        }
      ]
    },
    {
      "cell_type": "markdown",
      "metadata": {
        "id": "dAKCm6BKagsH",
        "colab_type": "text"
      },
      "source": [
        "## 모델 이용"
      ]
    },
    {
      "cell_type": "code",
      "metadata": {
        "id": "1q_JDxkSZPaz",
        "colab_type": "code",
        "colab": {
          "base_uri": "https://localhost:8080/",
          "height": 122
        },
        "outputId": "b7ec53b4-556a-4ad0-a56e-ae97748fcd4e"
      },
      "source": [
        "print(model.predict(독립))  # 정답인 독립변수를 넣어 종속변수인 '판매량'과 같은 값이 나오는지 확인"
      ],
      "execution_count": 7,
      "outputs": [
        {
          "output_type": "stream",
          "text": [
            "[[40.02249 ]\n",
            " [42.01842 ]\n",
            " [44.014347]\n",
            " [46.010277]\n",
            " [48.006207]\n",
            " [50.002132]]\n"
          ],
          "name": "stdout"
        }
      ]
    },
    {
      "cell_type": "code",
      "metadata": {
        "id": "o_Iusj30eaRf",
        "colab_type": "code",
        "colab": {
          "base_uri": "https://localhost:8080/",
          "height": 227
        },
        "outputId": "04a2e5ec-2815-47cb-bacc-611a20c6acb9"
      },
      "source": [
        "종속"
      ],
      "execution_count": 8,
      "outputs": [
        {
          "output_type": "execute_result",
          "data": {
            "text/html": [
              "<div>\n",
              "<style scoped>\n",
              "    .dataframe tbody tr th:only-of-type {\n",
              "        vertical-align: middle;\n",
              "    }\n",
              "\n",
              "    .dataframe tbody tr th {\n",
              "        vertical-align: top;\n",
              "    }\n",
              "\n",
              "    .dataframe thead th {\n",
              "        text-align: right;\n",
              "    }\n",
              "</style>\n",
              "<table border=\"1\" class=\"dataframe\">\n",
              "  <thead>\n",
              "    <tr style=\"text-align: right;\">\n",
              "      <th></th>\n",
              "      <th>판매량</th>\n",
              "    </tr>\n",
              "  </thead>\n",
              "  <tbody>\n",
              "    <tr>\n",
              "      <th>0</th>\n",
              "      <td>40</td>\n",
              "    </tr>\n",
              "    <tr>\n",
              "      <th>1</th>\n",
              "      <td>42</td>\n",
              "    </tr>\n",
              "    <tr>\n",
              "      <th>2</th>\n",
              "      <td>44</td>\n",
              "    </tr>\n",
              "    <tr>\n",
              "      <th>3</th>\n",
              "      <td>46</td>\n",
              "    </tr>\n",
              "    <tr>\n",
              "      <th>4</th>\n",
              "      <td>48</td>\n",
              "    </tr>\n",
              "    <tr>\n",
              "      <th>5</th>\n",
              "      <td>50</td>\n",
              "    </tr>\n",
              "  </tbody>\n",
              "</table>\n",
              "</div>"
            ],
            "text/plain": [
              "   판매량\n",
              "0   40\n",
              "1   42\n",
              "2   44\n",
              "3   46\n",
              "4   48\n",
              "5   50"
            ]
          },
          "metadata": {
            "tags": []
          },
          "execution_count": 8
        }
      ]
    },
    {
      "cell_type": "markdown",
      "metadata": {
        "id": "Q2U_vJBbduiV",
        "colab_type": "text"
      },
      "source": [
        "## 예측"
      ]
    },
    {
      "cell_type": "code",
      "metadata": {
        "id": "5mbGDxsTdwrc",
        "colab_type": "code",
        "colab": {
          "base_uri": "https://localhost:8080/",
          "height": 34
        },
        "outputId": "87bf9ad4-19f8-48cf-b1db-7ed51385c248"
      },
      "source": [
        "model.predict([[15]])  # 온도가 15도라면 몇 개의 레몬에이드를 준비해야 하는가?"
      ],
      "execution_count": 9,
      "outputs": [
        {
          "output_type": "execute_result",
          "data": {
            "text/plain": [
              "array([[30.04285]], dtype=float32)"
            ]
          },
          "metadata": {
            "tags": []
          },
          "execution_count": 9
        }
      ]
    }
  ]
}
