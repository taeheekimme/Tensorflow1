{
  "nbformat": 4,
  "nbformat_minor": 0,
  "metadata": {
    "colab": {
      "name": "1-19. 히든레이어",
      "provenance": [],
      "collapsed_sections": []
    },
    "kernelspec": {
      "name": "python3",
      "display_name": "Python 3"
    },
    "accelerator": "GPU"
  },
  "cells": [
    {
      "cell_type": "code",
      "metadata": {
        "id": "lB0htFvCNrnX",
        "colab_type": "code",
        "colab": {}
      },
      "source": [
        "import tensorflow as tf\n",
        "import pandas as pd"
      ],
      "execution_count": 1,
      "outputs": []
    },
    {
      "cell_type": "markdown",
      "metadata": {
        "id": "8E-uWImTOsEW",
        "colab_type": "text"
      },
      "source": [
        "# 보스턴 집값 예측"
      ]
    },
    {
      "cell_type": "markdown",
      "metadata": {
        "id": "ugHVIqTz-z53",
        "colab_type": "text"
      },
      "source": [
        "## 1. 데이터 준비\n"
      ]
    },
    {
      "cell_type": "code",
      "metadata": {
        "id": "5seJatAXOgPs",
        "colab_type": "code",
        "colab": {}
      },
      "source": [
        "파일경로 = 'https://raw.githubusercontent.com/blackdew/tensorflow1/master/csv/boston.csv'\n",
        "보스턴 = pd.read_csv(파일경로)"
      ],
      "execution_count": 2,
      "outputs": []
    },
    {
      "cell_type": "markdown",
      "metadata": {
        "id": "OLMt_zpZ-5oE",
        "colab_type": "text"
      },
      "source": [
        "## 종속변수, 독립변수 분리"
      ]
    },
    {
      "cell_type": "code",
      "metadata": {
        "id": "ePQ3mOSb-7kq",
        "colab_type": "code",
        "colab": {
          "base_uri": "https://localhost:8080/",
          "height": 34
        },
        "outputId": "cbe42ca2-502f-40a3-8842-fec24a5adf46"
      },
      "source": [
        "독립 = 보스턴[['crim', 'zn', 'indus', 'chas', 'nox', 'rm', 'age', 'dis', 'rad', 'tax', 'ptratio', 'b', 'lstat']]\n",
        "종속 = 보스턴[['medv']]\n",
        "print(독립.shape, 종속.shape)"
      ],
      "execution_count": 3,
      "outputs": [
        {
          "output_type": "stream",
          "text": [
            "(506, 13) (506, 1)\n"
          ],
          "name": "stdout"
        }
      ]
    },
    {
      "cell_type": "markdown",
      "metadata": {
        "id": "UEylun7N_CB8",
        "colab_type": "text"
      },
      "source": [
        "## 2. 모델 생성"
      ]
    },
    {
      "cell_type": "code",
      "metadata": {
        "id": "vfkJqttEOiJt",
        "colab_type": "code",
        "colab": {}
      },
      "source": [
        "X = tf.keras.layers.Input(shape=[13])\n",
        "# X를 입력층으로 받아 10개의 노드를 가진 히든레이어 생성\n",
        "H = tf.keras.layers.Dense(10, activation='swish')(X)  # 히든레이어의 활성화 함수 swish\n",
        "Y = tf.keras.layers.Dense(1)(H)  # 마지막 히든레이어에서 만들어진 H를 삽입해야 함\n",
        "model = tf.keras.models.Model(X, Y)\n",
        "model.compile(loss='mse')"
      ],
      "execution_count": 4,
      "outputs": []
    },
    {
      "cell_type": "markdown",
      "metadata": {
        "id": "bE9Qsgq2_-xW",
        "colab_type": "text"
      },
      "source": [
        "#### 히든레이어\n",
        "- 입력층과 출력층 사이의 연결고리인 히든레이어 \n",
        "- 즉, 입력층과 출력층 사이에 하나의 층을 더 만듬\n",
        "   - 입력층(506, 13), 히든레이어(506, 5), 출력층(506, 1)\n",
        "   - 입력층에서 13개의 입력을 받고 히든레이어에서 5개의 출력을 받아 출력층에서 하나의 출력을 만들어 냄\n"
      ]
    },
    {
      "cell_type": "markdown",
      "metadata": {
        "id": "Cbj-T01K_E2X",
        "colab_type": "text"
      },
      "source": [
        "## 모델 구조 확인\n"
      ]
    },
    {
      "cell_type": "code",
      "metadata": {
        "id": "3m3Ap3YVYQIZ",
        "colab_type": "code",
        "colab": {
          "base_uri": "https://localhost:8080/",
          "height": 262
        },
        "outputId": "b2fd522b-7cd5-49cf-b9f5-81931d7eb6a4"
      },
      "source": [
        "model.summary()\n",
        "# 입력층 13개\n",
        "# 10개의 노드 추가\n",
        "# 출력층 1개\n",
        "\n",
        "# param은 가중치로 입력층 13개와 bias 1개이므로 수식마다 14개의 항이 필요하고 항이 10개이므로 140\n",
        "# 출력층은 10개의 노드와 1개의 bias로 인해 총 11"
      ],
      "execution_count": 5,
      "outputs": [
        {
          "output_type": "stream",
          "text": [
            "Model: \"functional_1\"\n",
            "_________________________________________________________________\n",
            "Layer (type)                 Output Shape              Param #   \n",
            "=================================================================\n",
            "input_1 (InputLayer)         [(None, 13)]              0         \n",
            "_________________________________________________________________\n",
            "dense (Dense)                (None, 10)                140       \n",
            "_________________________________________________________________\n",
            "dense_1 (Dense)              (None, 1)                 11        \n",
            "=================================================================\n",
            "Total params: 151\n",
            "Trainable params: 151\n",
            "Non-trainable params: 0\n",
            "_________________________________________________________________\n"
          ],
          "name": "stdout"
        }
      ]
    },
    {
      "cell_type": "markdown",
      "metadata": {
        "id": "DTLwpA2F_Lof",
        "colab_type": "text"
      },
      "source": [
        "## 3. 모델 학습"
      ]
    },
    {
      "cell_type": "code",
      "metadata": {
        "id": "jMNsfnzyOoDm",
        "colab_type": "code",
        "colab": {
          "base_uri": "https://localhost:8080/",
          "height": 1000
        },
        "outputId": "d92416ce-46df-412e-89b9-d3656b4380d1"
      },
      "source": [
        "model.fit(독립, 종속, epochs=100)"
      ],
      "execution_count": 6,
      "outputs": [
        {
          "output_type": "stream",
          "text": [
            "Epoch 1/100\n",
            "16/16 [==============================] - 0s 3ms/step - loss: 1553.3019\n",
            "Epoch 2/100\n",
            "16/16 [==============================] - 0s 2ms/step - loss: 497.7584\n",
            "Epoch 3/100\n",
            "16/16 [==============================] - 0s 3ms/step - loss: 368.2353\n",
            "Epoch 4/100\n",
            "16/16 [==============================] - 0s 2ms/step - loss: 285.0297\n",
            "Epoch 5/100\n",
            "16/16 [==============================] - 0s 2ms/step - loss: 236.5855\n",
            "Epoch 6/100\n",
            "16/16 [==============================] - 0s 2ms/step - loss: 204.5943\n",
            "Epoch 7/100\n",
            "16/16 [==============================] - 0s 3ms/step - loss: 177.6093\n",
            "Epoch 8/100\n",
            "16/16 [==============================] - 0s 2ms/step - loss: 154.5627\n",
            "Epoch 9/100\n",
            "16/16 [==============================] - 0s 2ms/step - loss: 138.4224\n",
            "Epoch 10/100\n",
            "16/16 [==============================] - 0s 3ms/step - loss: 125.5881\n",
            "Epoch 11/100\n",
            "16/16 [==============================] - 0s 3ms/step - loss: 111.4421\n",
            "Epoch 12/100\n",
            "16/16 [==============================] - 0s 3ms/step - loss: 100.9716\n",
            "Epoch 13/100\n",
            "16/16 [==============================] - 0s 3ms/step - loss: 90.5673\n",
            "Epoch 14/100\n",
            "16/16 [==============================] - 0s 3ms/step - loss: 84.2609\n",
            "Epoch 15/100\n",
            "16/16 [==============================] - 0s 3ms/step - loss: 82.7815\n",
            "Epoch 16/100\n",
            "16/16 [==============================] - 0s 3ms/step - loss: 74.4565\n",
            "Epoch 17/100\n",
            "16/16 [==============================] - 0s 3ms/step - loss: 70.3882\n",
            "Epoch 18/100\n",
            "16/16 [==============================] - 0s 3ms/step - loss: 68.3265\n",
            "Epoch 19/100\n",
            "16/16 [==============================] - 0s 2ms/step - loss: 66.4129\n",
            "Epoch 20/100\n",
            "16/16 [==============================] - 0s 2ms/step - loss: 64.7712\n",
            "Epoch 21/100\n",
            "16/16 [==============================] - 0s 2ms/step - loss: 60.5006\n",
            "Epoch 22/100\n",
            "16/16 [==============================] - 0s 3ms/step - loss: 61.2460\n",
            "Epoch 23/100\n",
            "16/16 [==============================] - 0s 3ms/step - loss: 60.4054\n",
            "Epoch 24/100\n",
            "16/16 [==============================] - 0s 3ms/step - loss: 60.0807\n",
            "Epoch 25/100\n",
            "16/16 [==============================] - 0s 2ms/step - loss: 58.4464\n",
            "Epoch 26/100\n",
            "16/16 [==============================] - 0s 3ms/step - loss: 59.9351\n",
            "Epoch 27/100\n",
            "16/16 [==============================] - 0s 3ms/step - loss: 59.2119\n",
            "Epoch 28/100\n",
            "16/16 [==============================] - 0s 2ms/step - loss: 56.1680\n",
            "Epoch 29/100\n",
            "16/16 [==============================] - 0s 2ms/step - loss: 54.6809\n",
            "Epoch 30/100\n",
            "16/16 [==============================] - 0s 2ms/step - loss: 54.7714\n",
            "Epoch 31/100\n",
            "16/16 [==============================] - 0s 2ms/step - loss: 54.8029\n",
            "Epoch 32/100\n",
            "16/16 [==============================] - 0s 2ms/step - loss: 53.7626\n",
            "Epoch 33/100\n",
            "16/16 [==============================] - 0s 3ms/step - loss: 55.4746\n",
            "Epoch 34/100\n",
            "16/16 [==============================] - 0s 2ms/step - loss: 52.1264\n",
            "Epoch 35/100\n",
            "16/16 [==============================] - 0s 3ms/step - loss: 51.9554\n",
            "Epoch 36/100\n",
            "16/16 [==============================] - 0s 3ms/step - loss: 51.4518\n",
            "Epoch 37/100\n",
            "16/16 [==============================] - 0s 2ms/step - loss: 52.1550\n",
            "Epoch 38/100\n",
            "16/16 [==============================] - 0s 2ms/step - loss: 51.2620\n",
            "Epoch 39/100\n",
            "16/16 [==============================] - 0s 3ms/step - loss: 50.4218\n",
            "Epoch 40/100\n",
            "16/16 [==============================] - 0s 2ms/step - loss: 50.7360\n",
            "Epoch 41/100\n",
            "16/16 [==============================] - 0s 3ms/step - loss: 50.1151\n",
            "Epoch 42/100\n",
            "16/16 [==============================] - 0s 2ms/step - loss: 49.8202\n",
            "Epoch 43/100\n",
            "16/16 [==============================] - 0s 2ms/step - loss: 49.8673\n",
            "Epoch 44/100\n",
            "16/16 [==============================] - 0s 2ms/step - loss: 47.8151\n",
            "Epoch 45/100\n",
            "16/16 [==============================] - 0s 2ms/step - loss: 50.9304\n",
            "Epoch 46/100\n",
            "16/16 [==============================] - 0s 2ms/step - loss: 48.4636\n",
            "Epoch 47/100\n",
            "16/16 [==============================] - 0s 3ms/step - loss: 46.4853\n",
            "Epoch 48/100\n",
            "16/16 [==============================] - 0s 3ms/step - loss: 50.8902\n",
            "Epoch 49/100\n",
            "16/16 [==============================] - 0s 2ms/step - loss: 47.1430\n",
            "Epoch 50/100\n",
            "16/16 [==============================] - 0s 2ms/step - loss: 46.6212\n",
            "Epoch 51/100\n",
            "16/16 [==============================] - 0s 2ms/step - loss: 45.7817\n",
            "Epoch 52/100\n",
            "16/16 [==============================] - 0s 3ms/step - loss: 46.0554\n",
            "Epoch 53/100\n",
            "16/16 [==============================] - 0s 3ms/step - loss: 46.1562\n",
            "Epoch 54/100\n",
            "16/16 [==============================] - 0s 3ms/step - loss: 45.7593\n",
            "Epoch 55/100\n",
            "16/16 [==============================] - 0s 2ms/step - loss: 45.4109\n",
            "Epoch 56/100\n",
            "16/16 [==============================] - 0s 3ms/step - loss: 45.7026\n",
            "Epoch 57/100\n",
            "16/16 [==============================] - 0s 3ms/step - loss: 44.4834\n",
            "Epoch 58/100\n",
            "16/16 [==============================] - 0s 2ms/step - loss: 44.3703\n",
            "Epoch 59/100\n",
            "16/16 [==============================] - 0s 2ms/step - loss: 47.1792\n",
            "Epoch 60/100\n",
            "16/16 [==============================] - 0s 2ms/step - loss: 44.2309\n",
            "Epoch 61/100\n",
            "16/16 [==============================] - 0s 2ms/step - loss: 46.2117\n",
            "Epoch 62/100\n",
            "16/16 [==============================] - 0s 2ms/step - loss: 43.9333\n",
            "Epoch 63/100\n",
            "16/16 [==============================] - 0s 2ms/step - loss: 43.9597\n",
            "Epoch 64/100\n",
            "16/16 [==============================] - 0s 2ms/step - loss: 43.5645\n",
            "Epoch 65/100\n",
            "16/16 [==============================] - 0s 2ms/step - loss: 46.0069\n",
            "Epoch 66/100\n",
            "16/16 [==============================] - 0s 2ms/step - loss: 43.6606\n",
            "Epoch 67/100\n",
            "16/16 [==============================] - 0s 2ms/step - loss: 43.9739\n",
            "Epoch 68/100\n",
            "16/16 [==============================] - 0s 2ms/step - loss: 44.3614\n",
            "Epoch 69/100\n",
            "16/16 [==============================] - 0s 3ms/step - loss: 43.3293\n",
            "Epoch 70/100\n",
            "16/16 [==============================] - 0s 2ms/step - loss: 43.8195\n",
            "Epoch 71/100\n",
            "16/16 [==============================] - 0s 2ms/step - loss: 42.2737\n",
            "Epoch 72/100\n",
            "16/16 [==============================] - 0s 2ms/step - loss: 46.5380\n",
            "Epoch 73/100\n",
            "16/16 [==============================] - 0s 2ms/step - loss: 44.1778\n",
            "Epoch 74/100\n",
            "16/16 [==============================] - 0s 3ms/step - loss: 42.6042\n",
            "Epoch 75/100\n",
            "16/16 [==============================] - 0s 3ms/step - loss: 42.0128\n",
            "Epoch 76/100\n",
            "16/16 [==============================] - 0s 3ms/step - loss: 41.0878\n",
            "Epoch 77/100\n",
            "16/16 [==============================] - 0s 2ms/step - loss: 42.3367\n",
            "Epoch 78/100\n",
            "16/16 [==============================] - 0s 3ms/step - loss: 41.8336\n",
            "Epoch 79/100\n",
            "16/16 [==============================] - 0s 2ms/step - loss: 42.3784\n",
            "Epoch 80/100\n",
            "16/16 [==============================] - 0s 3ms/step - loss: 41.3744\n",
            "Epoch 81/100\n",
            "16/16 [==============================] - 0s 2ms/step - loss: 41.8672\n",
            "Epoch 82/100\n",
            "16/16 [==============================] - 0s 3ms/step - loss: 41.0509\n",
            "Epoch 83/100\n",
            "16/16 [==============================] - 0s 3ms/step - loss: 40.1684\n",
            "Epoch 84/100\n",
            "16/16 [==============================] - 0s 2ms/step - loss: 42.8568\n",
            "Epoch 85/100\n",
            "16/16 [==============================] - 0s 3ms/step - loss: 41.6447\n",
            "Epoch 86/100\n",
            "16/16 [==============================] - 0s 3ms/step - loss: 41.0879\n",
            "Epoch 87/100\n",
            "16/16 [==============================] - 0s 3ms/step - loss: 39.1551\n",
            "Epoch 88/100\n",
            "16/16 [==============================] - 0s 3ms/step - loss: 42.0114\n",
            "Epoch 89/100\n",
            "16/16 [==============================] - 0s 3ms/step - loss: 40.4192\n",
            "Epoch 90/100\n",
            "16/16 [==============================] - 0s 2ms/step - loss: 40.9463\n",
            "Epoch 91/100\n",
            "16/16 [==============================] - 0s 2ms/step - loss: 43.4890\n",
            "Epoch 92/100\n",
            "16/16 [==============================] - 0s 3ms/step - loss: 40.8734\n",
            "Epoch 93/100\n",
            "16/16 [==============================] - 0s 3ms/step - loss: 38.0515\n",
            "Epoch 94/100\n",
            "16/16 [==============================] - 0s 2ms/step - loss: 41.3163\n",
            "Epoch 95/100\n",
            "16/16 [==============================] - 0s 2ms/step - loss: 39.6257\n",
            "Epoch 96/100\n",
            "16/16 [==============================] - 0s 2ms/step - loss: 39.7986\n",
            "Epoch 97/100\n",
            "16/16 [==============================] - 0s 2ms/step - loss: 37.6466\n",
            "Epoch 98/100\n",
            "16/16 [==============================] - 0s 4ms/step - loss: 41.3324\n",
            "Epoch 99/100\n",
            "16/16 [==============================] - 0s 3ms/step - loss: 40.8810\n",
            "Epoch 100/100\n",
            "16/16 [==============================] - 0s 3ms/step - loss: 39.4297\n"
          ],
          "name": "stdout"
        },
        {
          "output_type": "execute_result",
          "data": {
            "text/plain": [
              "<tensorflow.python.keras.callbacks.History at 0x7fe060568668>"
            ]
          },
          "metadata": {
            "tags": []
          },
          "execution_count": 6
        }
      ]
    },
    {
      "cell_type": "markdown",
      "metadata": {
        "id": "x6Mn_p5V_OIV",
        "colab_type": "text"
      },
      "source": [
        "## 4. 모델 예측"
      ]
    },
    {
      "cell_type": "code",
      "metadata": {
        "id": "7myiwud5Opdo",
        "colab_type": "code",
        "colab": {
          "base_uri": "https://localhost:8080/",
          "height": 209
        },
        "outputId": "94f3514a-5381-45aa-83f0-5ea7e3e676f9"
      },
      "source": [
        "print(model.predict(독립[:5]))\n",
        "print(종속[:5])\n",
        "# 24를 32로 예측, 21을 27로 예측"
      ],
      "execution_count": 7,
      "outputs": [
        {
          "output_type": "stream",
          "text": [
            "[[32.122787]\n",
            " [27.842491]\n",
            " [30.981773]\n",
            " [30.7305  ]\n",
            " [29.931023]]\n",
            "   medv\n",
            "0  24.0\n",
            "1  21.6\n",
            "2  34.7\n",
            "3  33.4\n",
            "4  36.2\n"
          ],
          "name": "stdout"
        }
      ]
    },
    {
      "cell_type": "markdown",
      "metadata": {
        "id": "UNjrnjjeOzJr",
        "colab_type": "text"
      },
      "source": [
        "# 아이리스 품종 분류\n"
      ]
    },
    {
      "cell_type": "markdown",
      "metadata": {
        "id": "MIwnz-OH_SOc",
        "colab_type": "text"
      },
      "source": [
        "## 1. 데이터 준비"
      ]
    },
    {
      "cell_type": "code",
      "metadata": {
        "id": "8UaitxOBOyrF",
        "colab_type": "code",
        "colab": {}
      },
      "source": [
        "파일경로 = 'https://raw.githubusercontent.com/blackdew/tensorflow1/master/csv/iris.csv'\n",
        "아이리스 = pd.read_csv(파일경로)"
      ],
      "execution_count": 8,
      "outputs": []
    },
    {
      "cell_type": "markdown",
      "metadata": {
        "id": "2pukDBBX_W75",
        "colab_type": "text"
      },
      "source": [
        "## 원핫인코딩"
      ]
    },
    {
      "cell_type": "code",
      "metadata": {
        "id": "piJ6ybAK_Xok",
        "colab_type": "code",
        "colab": {}
      },
      "source": [
        "아이리스 = pd.get_dummies(아이리스)"
      ],
      "execution_count": 9,
      "outputs": []
    },
    {
      "cell_type": "markdown",
      "metadata": {
        "id": "S9hTNv9x_X9b",
        "colab_type": "text"
      },
      "source": [
        "## 종속변수, 독립변수 분리"
      ]
    },
    {
      "cell_type": "code",
      "metadata": {
        "id": "eSHgU-YK_YXl",
        "colab_type": "code",
        "colab": {
          "base_uri": "https://localhost:8080/",
          "height": 34
        },
        "outputId": "2d8dba44-20b3-4158-c8b2-0f45788e02ac"
      },
      "source": [
        "독립 = 아이리스[['꽃잎길이', '꽃잎폭', '꽃받침길이', '꽃받침폭']]\n",
        "종속 = 아이리스[['품종_setosa', '품종_versicolor', '품종_virginica']]\n",
        "print(독립.shape, 종속.shape)"
      ],
      "execution_count": 10,
      "outputs": [
        {
          "output_type": "stream",
          "text": [
            "(150, 4) (150, 3)\n"
          ],
          "name": "stdout"
        }
      ]
    },
    {
      "cell_type": "code",
      "metadata": {
        "id": "WybEdUjlO1UY",
        "colab_type": "code",
        "colab": {}
      },
      "source": [
        "X = tf.keras.layers.Input(shape=[4])\n",
        "H = tf.keras.layers.Dense(8, activation=\"swish\")(X) \n",
        "H = tf.keras.layers.Dense(8, activation=\"swish\")(H)  \n",
        "H = tf.keras.layers.Dense(8, activation=\"swish\")(H)\n",
        "Y = tf.keras.layers.Dense(3, activation='softmax')(H)\n",
        "model = tf.keras.models.Model(X, Y)\n",
        "model.compile(loss='categorical_crossentropy',\n",
        "              metrics='accuracy')"
      ],
      "execution_count": 11,
      "outputs": []
    },
    {
      "cell_type": "markdown",
      "metadata": {
        "id": "J86S41WI_i5I",
        "colab_type": "text"
      },
      "source": [
        "## 모델 구조 확인"
      ]
    },
    {
      "cell_type": "code",
      "metadata": {
        "id": "1pMmno2taozU",
        "colab_type": "code",
        "colab": {
          "base_uri": "https://localhost:8080/",
          "height": 332
        },
        "outputId": "d1442a99-2016-4abd-d4a0-88a9e4910192"
      },
      "source": [
        "model.summary()"
      ],
      "execution_count": 12,
      "outputs": [
        {
          "output_type": "stream",
          "text": [
            "Model: \"functional_3\"\n",
            "_________________________________________________________________\n",
            "Layer (type)                 Output Shape              Param #   \n",
            "=================================================================\n",
            "input_2 (InputLayer)         [(None, 4)]               0         \n",
            "_________________________________________________________________\n",
            "dense_2 (Dense)              (None, 8)                 40        \n",
            "_________________________________________________________________\n",
            "dense_3 (Dense)              (None, 8)                 72        \n",
            "_________________________________________________________________\n",
            "dense_4 (Dense)              (None, 8)                 72        \n",
            "_________________________________________________________________\n",
            "dense_5 (Dense)              (None, 3)                 27        \n",
            "=================================================================\n",
            "Total params: 211\n",
            "Trainable params: 211\n",
            "Non-trainable params: 0\n",
            "_________________________________________________________________\n"
          ],
          "name": "stdout"
        }
      ]
    },
    {
      "cell_type": "markdown",
      "metadata": {
        "id": "qQyQ96d3_lON",
        "colab_type": "text"
      },
      "source": [
        "## 3. 모델 학습"
      ]
    },
    {
      "cell_type": "code",
      "metadata": {
        "id": "19E6GPw9O2Ge",
        "colab_type": "code",
        "colab": {
          "base_uri": "https://localhost:8080/",
          "height": 1000
        },
        "outputId": "016a7960-545e-4f0e-e9df-85b76fe30548"
      },
      "source": [
        "model.fit(독립, 종속, epochs=100)"
      ],
      "execution_count": 13,
      "outputs": [
        {
          "output_type": "stream",
          "text": [
            "Epoch 1/100\n",
            "5/5 [==============================] - 0s 4ms/step - loss: 1.2835 - accuracy: 0.2400\n",
            "Epoch 2/100\n",
            "5/5 [==============================] - 0s 3ms/step - loss: 1.1193 - accuracy: 0.3333\n",
            "Epoch 3/100\n",
            "5/5 [==============================] - 0s 3ms/step - loss: 1.0321 - accuracy: 0.3667\n",
            "Epoch 4/100\n",
            "5/5 [==============================] - 0s 3ms/step - loss: 0.9704 - accuracy: 0.4333\n",
            "Epoch 5/100\n",
            "5/5 [==============================] - 0s 4ms/step - loss: 0.9221 - accuracy: 0.5800\n",
            "Epoch 6/100\n",
            "5/5 [==============================] - 0s 4ms/step - loss: 0.8830 - accuracy: 0.6333\n",
            "Epoch 7/100\n",
            "5/5 [==============================] - 0s 3ms/step - loss: 0.8496 - accuracy: 0.6467\n",
            "Epoch 8/100\n",
            "5/5 [==============================] - 0s 3ms/step - loss: 0.8205 - accuracy: 0.6600\n",
            "Epoch 9/100\n",
            "5/5 [==============================] - 0s 4ms/step - loss: 0.7939 - accuracy: 0.6600\n",
            "Epoch 10/100\n",
            "5/5 [==============================] - 0s 3ms/step - loss: 0.7683 - accuracy: 0.6600\n",
            "Epoch 11/100\n",
            "5/5 [==============================] - 0s 3ms/step - loss: 0.7447 - accuracy: 0.6600\n",
            "Epoch 12/100\n",
            "5/5 [==============================] - 0s 3ms/step - loss: 0.7208 - accuracy: 0.6533\n",
            "Epoch 13/100\n",
            "5/5 [==============================] - 0s 3ms/step - loss: 0.6988 - accuracy: 0.6600\n",
            "Epoch 14/100\n",
            "5/5 [==============================] - 0s 3ms/step - loss: 0.6772 - accuracy: 0.6400\n",
            "Epoch 15/100\n",
            "5/5 [==============================] - 0s 3ms/step - loss: 0.6568 - accuracy: 0.6400\n",
            "Epoch 16/100\n",
            "5/5 [==============================] - 0s 3ms/step - loss: 0.6389 - accuracy: 0.6400\n",
            "Epoch 17/100\n",
            "5/5 [==============================] - 0s 4ms/step - loss: 0.6200 - accuracy: 0.6467\n",
            "Epoch 18/100\n",
            "5/5 [==============================] - 0s 4ms/step - loss: 0.6046 - accuracy: 0.6667\n",
            "Epoch 19/100\n",
            "5/5 [==============================] - 0s 4ms/step - loss: 0.5876 - accuracy: 0.7133\n",
            "Epoch 20/100\n",
            "5/5 [==============================] - 0s 4ms/step - loss: 0.5736 - accuracy: 0.7400\n",
            "Epoch 21/100\n",
            "5/5 [==============================] - 0s 4ms/step - loss: 0.5588 - accuracy: 0.7667\n",
            "Epoch 22/100\n",
            "5/5 [==============================] - 0s 5ms/step - loss: 0.5460 - accuracy: 0.7533\n",
            "Epoch 23/100\n",
            "5/5 [==============================] - 0s 4ms/step - loss: 0.5337 - accuracy: 0.7733\n",
            "Epoch 24/100\n",
            "5/5 [==============================] - 0s 4ms/step - loss: 0.5226 - accuracy: 0.7867\n",
            "Epoch 25/100\n",
            "5/5 [==============================] - 0s 4ms/step - loss: 0.5120 - accuracy: 0.8200\n",
            "Epoch 26/100\n",
            "5/5 [==============================] - 0s 4ms/step - loss: 0.5015 - accuracy: 0.8133\n",
            "Epoch 27/100\n",
            "5/5 [==============================] - 0s 4ms/step - loss: 0.4923 - accuracy: 0.8400\n",
            "Epoch 28/100\n",
            "5/5 [==============================] - 0s 3ms/step - loss: 0.4837 - accuracy: 0.8467\n",
            "Epoch 29/100\n",
            "5/5 [==============================] - 0s 3ms/step - loss: 0.4752 - accuracy: 0.8200\n",
            "Epoch 30/100\n",
            "5/5 [==============================] - 0s 3ms/step - loss: 0.4675 - accuracy: 0.8067\n",
            "Epoch 31/100\n",
            "5/5 [==============================] - 0s 3ms/step - loss: 0.4600 - accuracy: 0.8600\n",
            "Epoch 32/100\n",
            "5/5 [==============================] - 0s 4ms/step - loss: 0.4529 - accuracy: 0.8333\n",
            "Epoch 33/100\n",
            "5/5 [==============================] - 0s 3ms/step - loss: 0.4450 - accuracy: 0.8533\n",
            "Epoch 34/100\n",
            "5/5 [==============================] - 0s 3ms/step - loss: 0.4391 - accuracy: 0.8533\n",
            "Epoch 35/100\n",
            "5/5 [==============================] - 0s 3ms/step - loss: 0.4339 - accuracy: 0.8800\n",
            "Epoch 36/100\n",
            "5/5 [==============================] - 0s 3ms/step - loss: 0.4263 - accuracy: 0.8933\n",
            "Epoch 37/100\n",
            "5/5 [==============================] - 0s 3ms/step - loss: 0.4212 - accuracy: 0.8800\n",
            "Epoch 38/100\n",
            "5/5 [==============================] - 0s 3ms/step - loss: 0.4140 - accuracy: 0.9067\n",
            "Epoch 39/100\n",
            "5/5 [==============================] - 0s 3ms/step - loss: 0.4068 - accuracy: 0.8800\n",
            "Epoch 40/100\n",
            "5/5 [==============================] - 0s 3ms/step - loss: 0.4009 - accuracy: 0.9133\n",
            "Epoch 41/100\n",
            "5/5 [==============================] - 0s 3ms/step - loss: 0.3948 - accuracy: 0.9067\n",
            "Epoch 42/100\n",
            "5/5 [==============================] - 0s 4ms/step - loss: 0.3893 - accuracy: 0.9200\n",
            "Epoch 43/100\n",
            "5/5 [==============================] - 0s 4ms/step - loss: 0.3826 - accuracy: 0.9000\n",
            "Epoch 44/100\n",
            "5/5 [==============================] - 0s 3ms/step - loss: 0.3747 - accuracy: 0.9133\n",
            "Epoch 45/100\n",
            "5/5 [==============================] - 0s 4ms/step - loss: 0.3701 - accuracy: 0.9333\n",
            "Epoch 46/100\n",
            "5/5 [==============================] - 0s 4ms/step - loss: 0.3623 - accuracy: 0.9267\n",
            "Epoch 47/100\n",
            "5/5 [==============================] - 0s 3ms/step - loss: 0.3546 - accuracy: 0.9333\n",
            "Epoch 48/100\n",
            "5/5 [==============================] - 0s 4ms/step - loss: 0.3526 - accuracy: 0.9333\n",
            "Epoch 49/100\n",
            "5/5 [==============================] - 0s 4ms/step - loss: 0.3409 - accuracy: 0.9467\n",
            "Epoch 50/100\n",
            "5/5 [==============================] - 0s 3ms/step - loss: 0.3348 - accuracy: 0.9333\n",
            "Epoch 51/100\n",
            "5/5 [==============================] - 0s 4ms/step - loss: 0.3274 - accuracy: 0.9533\n",
            "Epoch 52/100\n",
            "5/5 [==============================] - 0s 4ms/step - loss: 0.3225 - accuracy: 0.9533\n",
            "Epoch 53/100\n",
            "5/5 [==============================] - 0s 3ms/step - loss: 0.3133 - accuracy: 0.9600\n",
            "Epoch 54/100\n",
            "5/5 [==============================] - 0s 3ms/step - loss: 0.3084 - accuracy: 0.9600\n",
            "Epoch 55/100\n",
            "5/5 [==============================] - 0s 4ms/step - loss: 0.3003 - accuracy: 0.9667\n",
            "Epoch 56/100\n",
            "5/5 [==============================] - 0s 4ms/step - loss: 0.2937 - accuracy: 0.9533\n",
            "Epoch 57/100\n",
            "5/5 [==============================] - 0s 4ms/step - loss: 0.2858 - accuracy: 0.9667\n",
            "Epoch 58/100\n",
            "5/5 [==============================] - 0s 4ms/step - loss: 0.2779 - accuracy: 0.9600\n",
            "Epoch 59/100\n",
            "5/5 [==============================] - 0s 4ms/step - loss: 0.2750 - accuracy: 0.9533\n",
            "Epoch 60/100\n",
            "5/5 [==============================] - 0s 4ms/step - loss: 0.2666 - accuracy: 0.9600\n",
            "Epoch 61/100\n",
            "5/5 [==============================] - 0s 4ms/step - loss: 0.2572 - accuracy: 0.9600\n",
            "Epoch 62/100\n",
            "5/5 [==============================] - 0s 5ms/step - loss: 0.2513 - accuracy: 0.9667\n",
            "Epoch 63/100\n",
            "5/5 [==============================] - 0s 5ms/step - loss: 0.2488 - accuracy: 0.9600\n",
            "Epoch 64/100\n",
            "5/5 [==============================] - 0s 4ms/step - loss: 0.2400 - accuracy: 0.9533\n",
            "Epoch 65/100\n",
            "5/5 [==============================] - 0s 4ms/step - loss: 0.2331 - accuracy: 0.9667\n",
            "Epoch 66/100\n",
            "5/5 [==============================] - 0s 4ms/step - loss: 0.2274 - accuracy: 0.9600\n",
            "Epoch 67/100\n",
            "5/5 [==============================] - 0s 4ms/step - loss: 0.2223 - accuracy: 0.9600\n",
            "Epoch 68/100\n",
            "5/5 [==============================] - 0s 4ms/step - loss: 0.2141 - accuracy: 0.9533\n",
            "Epoch 69/100\n",
            "5/5 [==============================] - 0s 4ms/step - loss: 0.2096 - accuracy: 0.9733\n",
            "Epoch 70/100\n",
            "5/5 [==============================] - 0s 4ms/step - loss: 0.2027 - accuracy: 0.9667\n",
            "Epoch 71/100\n",
            "5/5 [==============================] - 0s 4ms/step - loss: 0.1959 - accuracy: 0.9600\n",
            "Epoch 72/100\n",
            "5/5 [==============================] - 0s 4ms/step - loss: 0.1962 - accuracy: 0.9667\n",
            "Epoch 73/100\n",
            "5/5 [==============================] - 0s 4ms/step - loss: 0.1913 - accuracy: 0.9733\n",
            "Epoch 74/100\n",
            "5/5 [==============================] - 0s 4ms/step - loss: 0.1865 - accuracy: 0.9600\n",
            "Epoch 75/100\n",
            "5/5 [==============================] - 0s 4ms/step - loss: 0.1816 - accuracy: 0.9600\n",
            "Epoch 76/100\n",
            "5/5 [==============================] - 0s 5ms/step - loss: 0.1858 - accuracy: 0.9467\n",
            "Epoch 77/100\n",
            "5/5 [==============================] - 0s 4ms/step - loss: 0.1751 - accuracy: 0.9600\n",
            "Epoch 78/100\n",
            "5/5 [==============================] - 0s 4ms/step - loss: 0.1695 - accuracy: 0.9667\n",
            "Epoch 79/100\n",
            "5/5 [==============================] - 0s 4ms/step - loss: 0.1654 - accuracy: 0.9800\n",
            "Epoch 80/100\n",
            "5/5 [==============================] - 0s 4ms/step - loss: 0.1643 - accuracy: 0.9733\n",
            "Epoch 81/100\n",
            "5/5 [==============================] - 0s 4ms/step - loss: 0.1607 - accuracy: 0.9733\n",
            "Epoch 82/100\n",
            "5/5 [==============================] - 0s 5ms/step - loss: 0.1538 - accuracy: 0.9733\n",
            "Epoch 83/100\n",
            "5/5 [==============================] - 0s 5ms/step - loss: 0.1542 - accuracy: 0.9733\n",
            "Epoch 84/100\n",
            "5/5 [==============================] - 0s 4ms/step - loss: 0.1500 - accuracy: 0.9733\n",
            "Epoch 85/100\n",
            "5/5 [==============================] - 0s 5ms/step - loss: 0.1461 - accuracy: 0.9800\n",
            "Epoch 86/100\n",
            "5/5 [==============================] - 0s 5ms/step - loss: 0.1430 - accuracy: 0.9733\n",
            "Epoch 87/100\n",
            "5/5 [==============================] - 0s 5ms/step - loss: 0.1403 - accuracy: 0.9667\n",
            "Epoch 88/100\n",
            "5/5 [==============================] - 0s 4ms/step - loss: 0.1366 - accuracy: 0.9733\n",
            "Epoch 89/100\n",
            "5/5 [==============================] - 0s 4ms/step - loss: 0.1341 - accuracy: 0.9800\n",
            "Epoch 90/100\n",
            "5/5 [==============================] - 0s 5ms/step - loss: 0.1351 - accuracy: 0.9667\n",
            "Epoch 91/100\n",
            "5/5 [==============================] - 0s 4ms/step - loss: 0.1274 - accuracy: 0.9733\n",
            "Epoch 92/100\n",
            "5/5 [==============================] - 0s 4ms/step - loss: 0.1357 - accuracy: 0.9667\n",
            "Epoch 93/100\n",
            "5/5 [==============================] - 0s 4ms/step - loss: 0.1255 - accuracy: 0.9667\n",
            "Epoch 94/100\n",
            "5/5 [==============================] - 0s 5ms/step - loss: 0.1214 - accuracy: 0.9800\n",
            "Epoch 95/100\n",
            "5/5 [==============================] - 0s 4ms/step - loss: 0.1190 - accuracy: 0.9733\n",
            "Epoch 96/100\n",
            "5/5 [==============================] - 0s 4ms/step - loss: 0.1237 - accuracy: 0.9600\n",
            "Epoch 97/100\n",
            "5/5 [==============================] - 0s 4ms/step - loss: 0.1211 - accuracy: 0.9600\n",
            "Epoch 98/100\n",
            "5/5 [==============================] - 0s 4ms/step - loss: 0.1183 - accuracy: 0.9733\n",
            "Epoch 99/100\n",
            "5/5 [==============================] - 0s 4ms/step - loss: 0.1237 - accuracy: 0.9600\n",
            "Epoch 100/100\n",
            "5/5 [==============================] - 0s 4ms/step - loss: 0.1107 - accuracy: 0.9733\n"
          ],
          "name": "stdout"
        },
        {
          "output_type": "execute_result",
          "data": {
            "text/plain": [
              "<tensorflow.python.keras.callbacks.History at 0x7fe0603ef668>"
            ]
          },
          "metadata": {
            "tags": []
          },
          "execution_count": 13
        }
      ]
    },
    {
      "cell_type": "markdown",
      "metadata": {
        "id": "G-D_gl-z_qTa",
        "colab_type": "text"
      },
      "source": [
        "## 4. 모델 예측"
      ]
    },
    {
      "cell_type": "code",
      "metadata": {
        "id": "S2zow9BvO3hx",
        "colab_type": "code",
        "colab": {
          "base_uri": "https://localhost:8080/",
          "height": 209
        },
        "outputId": "2eb21476-7dd4-4713-e819-e1b1cd5606fe"
      },
      "source": [
        "print(model.predict(독립[0:5]))\n",
        "print(종속[0:5])"
      ],
      "execution_count": 14,
      "outputs": [
        {
          "output_type": "stream",
          "text": [
            "[[9.9967253e-01 3.2366751e-04 3.8430198e-06]\n",
            " [9.9874818e-01 1.2355706e-03 1.6228305e-05]\n",
            " [9.9938083e-01 6.0995301e-04 9.1366774e-06]\n",
            " [9.9871361e-01 1.2698447e-03 1.6558146e-05]\n",
            " [9.9973792e-01 2.5900529e-04 3.1460529e-06]]\n",
            "   품종_setosa  품종_versicolor  품종_virginica\n",
            "0          1              0             0\n",
            "1          1              0             0\n",
            "2          1              0             0\n",
            "3          1              0             0\n",
            "4          1              0             0\n"
          ],
          "name": "stdout"
        }
      ]
    },
    {
      "cell_type": "code",
      "metadata": {
        "id": "apXTk3h6ZOXt",
        "colab_type": "code",
        "colab": {}
      },
      "source": [
        ""
      ],
      "execution_count": 14,
      "outputs": []
    }
  ]
}