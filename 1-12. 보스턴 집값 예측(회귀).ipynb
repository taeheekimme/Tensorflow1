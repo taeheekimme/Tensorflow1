{
  "nbformat": 4,
  "nbformat_minor": 0,
  "metadata": {
    "colab": {
      "name": "1-12. 보스턴 집값 예측(회귀).ipynb",
      "provenance": [],
      "collapsed_sections": []
    },
    "kernelspec": {
      "name": "python3",
      "display_name": "Python 3"
    },
    "accelerator": "GPU"
  },
  "cells": [
    {
      "cell_type": "code",
      "metadata": {
        "id": "-_X0jpqIQ2Vg",
        "colab_type": "code",
        "colab": {}
      },
      "source": [
        "import tensorflow as tf\n",
        "import pandas as pd"
      ],
      "execution_count": null,
      "outputs": []
    },
    {
      "cell_type": "markdown",
      "metadata": {
        "id": "sxR9P-JOlecq",
        "colab_type": "text"
      },
      "source": [
        "## 1. 데이터 준비"
      ]
    },
    {
      "cell_type": "code",
      "metadata": {
        "id": "0G9MLA2KRAur",
        "colab_type": "code",
        "colab": {
          "base_uri": "https://localhost:8080/",
          "height": 250
        },
        "outputId": "ee430f31-7999-44e9-f809-0645aedd64dd"
      },
      "source": [
        "파일경로 = 'https://raw.githubusercontent.com/blackdew/tensorflow1/master/csv/boston.csv'\n",
        "보스턴 = pd.read_csv(파일경로)\n",
        "print(보스턴.columns)\n",
        "보스턴.head()"
      ],
      "execution_count": null,
      "outputs": [
        {
          "output_type": "stream",
          "text": [
            "Index(['crim', 'zn', 'indus', 'chas', 'nox', 'rm', 'age', 'dis', 'rad', 'tax',\n",
            "       'ptratio', 'b', 'lstat', 'medv'],\n",
            "      dtype='object')\n"
          ],
          "name": "stdout"
        },
        {
          "output_type": "execute_result",
          "data": {
            "text/html": [
              "<div>\n",
              "<style scoped>\n",
              "    .dataframe tbody tr th:only-of-type {\n",
              "        vertical-align: middle;\n",
              "    }\n",
              "\n",
              "    .dataframe tbody tr th {\n",
              "        vertical-align: top;\n",
              "    }\n",
              "\n",
              "    .dataframe thead th {\n",
              "        text-align: right;\n",
              "    }\n",
              "</style>\n",
              "<table border=\"1\" class=\"dataframe\">\n",
              "  <thead>\n",
              "    <tr style=\"text-align: right;\">\n",
              "      <th></th>\n",
              "      <th>crim</th>\n",
              "      <th>zn</th>\n",
              "      <th>indus</th>\n",
              "      <th>chas</th>\n",
              "      <th>nox</th>\n",
              "      <th>rm</th>\n",
              "      <th>age</th>\n",
              "      <th>dis</th>\n",
              "      <th>rad</th>\n",
              "      <th>tax</th>\n",
              "      <th>ptratio</th>\n",
              "      <th>b</th>\n",
              "      <th>lstat</th>\n",
              "      <th>medv</th>\n",
              "    </tr>\n",
              "  </thead>\n",
              "  <tbody>\n",
              "    <tr>\n",
              "      <th>0</th>\n",
              "      <td>0.00632</td>\n",
              "      <td>18.0</td>\n",
              "      <td>2.31</td>\n",
              "      <td>0</td>\n",
              "      <td>0.538</td>\n",
              "      <td>6.575</td>\n",
              "      <td>65.2</td>\n",
              "      <td>4.0900</td>\n",
              "      <td>1</td>\n",
              "      <td>296</td>\n",
              "      <td>15.3</td>\n",
              "      <td>396.90</td>\n",
              "      <td>4.98</td>\n",
              "      <td>24.0</td>\n",
              "    </tr>\n",
              "    <tr>\n",
              "      <th>1</th>\n",
              "      <td>0.02731</td>\n",
              "      <td>0.0</td>\n",
              "      <td>7.07</td>\n",
              "      <td>0</td>\n",
              "      <td>0.469</td>\n",
              "      <td>6.421</td>\n",
              "      <td>78.9</td>\n",
              "      <td>4.9671</td>\n",
              "      <td>2</td>\n",
              "      <td>242</td>\n",
              "      <td>17.8</td>\n",
              "      <td>396.90</td>\n",
              "      <td>9.14</td>\n",
              "      <td>21.6</td>\n",
              "    </tr>\n",
              "    <tr>\n",
              "      <th>2</th>\n",
              "      <td>0.02729</td>\n",
              "      <td>0.0</td>\n",
              "      <td>7.07</td>\n",
              "      <td>0</td>\n",
              "      <td>0.469</td>\n",
              "      <td>7.185</td>\n",
              "      <td>61.1</td>\n",
              "      <td>4.9671</td>\n",
              "      <td>2</td>\n",
              "      <td>242</td>\n",
              "      <td>17.8</td>\n",
              "      <td>392.83</td>\n",
              "      <td>4.03</td>\n",
              "      <td>34.7</td>\n",
              "    </tr>\n",
              "    <tr>\n",
              "      <th>3</th>\n",
              "      <td>0.03237</td>\n",
              "      <td>0.0</td>\n",
              "      <td>2.18</td>\n",
              "      <td>0</td>\n",
              "      <td>0.458</td>\n",
              "      <td>6.998</td>\n",
              "      <td>45.8</td>\n",
              "      <td>6.0622</td>\n",
              "      <td>3</td>\n",
              "      <td>222</td>\n",
              "      <td>18.7</td>\n",
              "      <td>394.63</td>\n",
              "      <td>2.94</td>\n",
              "      <td>33.4</td>\n",
              "    </tr>\n",
              "    <tr>\n",
              "      <th>4</th>\n",
              "      <td>0.06905</td>\n",
              "      <td>0.0</td>\n",
              "      <td>2.18</td>\n",
              "      <td>0</td>\n",
              "      <td>0.458</td>\n",
              "      <td>7.147</td>\n",
              "      <td>54.2</td>\n",
              "      <td>6.0622</td>\n",
              "      <td>3</td>\n",
              "      <td>222</td>\n",
              "      <td>18.7</td>\n",
              "      <td>396.90</td>\n",
              "      <td>5.33</td>\n",
              "      <td>36.2</td>\n",
              "    </tr>\n",
              "  </tbody>\n",
              "</table>\n",
              "</div>"
            ],
            "text/plain": [
              "      crim    zn  indus  chas    nox  ...  tax  ptratio       b  lstat  medv\n",
              "0  0.00632  18.0   2.31     0  0.538  ...  296     15.3  396.90   4.98  24.0\n",
              "1  0.02731   0.0   7.07     0  0.469  ...  242     17.8  396.90   9.14  21.6\n",
              "2  0.02729   0.0   7.07     0  0.469  ...  242     17.8  392.83   4.03  34.7\n",
              "3  0.03237   0.0   2.18     0  0.458  ...  222     18.7  394.63   2.94  33.4\n",
              "4  0.06905   0.0   2.18     0  0.458  ...  222     18.7  396.90   5.33  36.2\n",
              "\n",
              "[5 rows x 14 columns]"
            ]
          },
          "metadata": {
            "tags": []
          },
          "execution_count": 2
        }
      ]
    },
    {
      "cell_type": "markdown",
      "metadata": {
        "id": "__ZW04OKljTF",
        "colab_type": "text"
      },
      "source": [
        "## 독립변수, 종속변수 분리 "
      ]
    },
    {
      "cell_type": "code",
      "metadata": {
        "id": "m72Pin04UMSJ",
        "colab_type": "code",
        "colab": {
          "base_uri": "https://localhost:8080/",
          "height": 34
        },
        "outputId": "559cc39b-cd37-410d-e3b1-0dd8cd6792af"
      },
      "source": [
        "독립 = 보스턴[['crim', 'zn', 'indus', 'chas', 'nox', 'rm', 'age', 'dis', 'rad', 'tax', 'ptratio', 'b', 'lstat']]\n",
        "종속 = 보스턴[['medv']]\n",
        "print(독립.shape, 종속.shape)"
      ],
      "execution_count": null,
      "outputs": [
        {
          "output_type": "stream",
          "text": [
            "(506, 13) (506, 1)\n"
          ],
          "name": "stdout"
        }
      ]
    },
    {
      "cell_type": "markdown",
      "metadata": {
        "id": "8PcVhWV0llhK",
        "colab_type": "text"
      },
      "source": [
        "## 2. 모델 생성"
      ]
    },
    {
      "cell_type": "code",
      "metadata": {
        "id": "d-ZMjIQWRD1_",
        "colab_type": "code",
        "colab": {}
      },
      "source": [
        "X = tf.keras.layers.Input(shape=[13])  # 독립변수 개수 13: 13개의 입력층 \n",
        "Y = tf.keras.layers.Dense(1)(X)        # 종속변수 개수 1: 1개의 출력층(13개의 입력으로부터 1개의 출력을 만들어 내는 구조)\n",
        "model = tf.keras.models.Model(X, Y)    # 모델 생성\n",
        "model.compile(loss='mse')"
      ],
      "execution_count": null,
      "outputs": []
    },
    {
      "cell_type": "markdown",
      "metadata": {
        "id": "thxB1o0jnV9K",
        "colab_type": "text"
      },
      "source": [
        "### 퍼셉트론 모형: y = w1x1 + w2x2 + w3x3 +b\n",
        "- 컴퓨터는 입력되는 데이터를 보고 이 모형의 w와 b를 찾는 것\n",
        "  - w1,w2,w3: 가중치(weight)\n",
        "  - b: 편향(bias)\n"
      ]
    },
    {
      "cell_type": "markdown",
      "metadata": {
        "id": "e7GfqJfVo-T0",
        "colab_type": "text"
      },
      "source": [
        "### 독립변수 12개 종속변수 2개라면?\n",
        "- 퍼셉트론 모형 1:  y1 = w1x1 + w2x2 ~ + w12x12 +b\n",
        "- 퍼셉트론 모형 2:  y2 = w1x1 + w2x2 ~ + w12x12 +b\n",
        "   - 퍼셉트론 2개가 병렬로 연결됨\n",
        "   - 가중치의 개수: y1의 w 12개와 b 1개, y2dml w 12개와 b 1개로 총 26개"
      ]
    },
    {
      "cell_type": "markdown",
      "metadata": {
        "id": "I6qyWhcolnhZ",
        "colab_type": "text"
      },
      "source": [
        "## 3. 모델 학습"
      ]
    },
    {
      "cell_type": "code",
      "metadata": {
        "id": "DkkQqg3yRFRR",
        "colab_type": "code",
        "colab": {
          "base_uri": "https://localhost:8080/",
          "height": 384
        },
        "outputId": "c0411a9b-769d-414c-b943-0d2da08d83b0"
      },
      "source": [
        "model.fit(독립, 종속, epochs=1000, verbose=0)  # 1000번 학습하고\n",
        "model.fit(독립, 종속, epochs=10)               # 10번만 출력"
      ],
      "execution_count": null,
      "outputs": [
        {
          "output_type": "stream",
          "text": [
            "Epoch 1/10\n",
            "16/16 [==============================] - 0s 2ms/step - loss: 26.8241\n",
            "Epoch 2/10\n",
            "16/16 [==============================] - 0s 2ms/step - loss: 26.1690\n",
            "Epoch 3/10\n",
            "16/16 [==============================] - 0s 2ms/step - loss: 25.9391\n",
            "Epoch 4/10\n",
            "16/16 [==============================] - 0s 2ms/step - loss: 26.1175\n",
            "Epoch 5/10\n",
            "16/16 [==============================] - 0s 2ms/step - loss: 26.3230\n",
            "Epoch 6/10\n",
            "16/16 [==============================] - 0s 2ms/step - loss: 26.5756\n",
            "Epoch 7/10\n",
            "16/16 [==============================] - 0s 2ms/step - loss: 26.3530\n",
            "Epoch 8/10\n",
            "16/16 [==============================] - 0s 2ms/step - loss: 26.1752\n",
            "Epoch 9/10\n",
            "16/16 [==============================] - 0s 2ms/step - loss: 26.1660\n",
            "Epoch 10/10\n",
            "16/16 [==============================] - 0s 2ms/step - loss: 25.7057\n"
          ],
          "name": "stdout"
        },
        {
          "output_type": "execute_result",
          "data": {
            "text/plain": [
              "<tensorflow.python.keras.callbacks.History at 0x7f6b00226518>"
            ]
          },
          "metadata": {
            "tags": []
          },
          "execution_count": 5
        }
      ]
    },
    {
      "cell_type": "markdown",
      "metadata": {
        "id": "fi1VHEGblrgB",
        "colab_type": "text"
      },
      "source": [
        "## 4. 모델 예측"
      ]
    },
    {
      "cell_type": "code",
      "metadata": {
        "id": "OATEnOjKRG_s",
        "colab_type": "code",
        "colab": {
          "base_uri": "https://localhost:8080/",
          "height": 104
        },
        "outputId": "616d8891-b572-4af3-828c-6df83f6968ef"
      },
      "source": [
        "# 독립변수 확인\n",
        "print(model.predict(독립[5:10]))  # 모델을 이용하여 학습시킨 독립변수에 대해 얼마나 정확하게 정답을 예측하는지 확인\n",
        "                                  # 현재 독립변수 shape을 보면 506개이므로 5~10번까지만 사용\n"
      ],
      "execution_count": null,
      "outputs": [
        {
          "output_type": "stream",
          "text": [
            "[[27.231596]\n",
            " [22.424828]\n",
            " [19.439373]\n",
            " [10.842591]\n",
            " [19.052464]]\n"
          ],
          "name": "stdout"
        }
      ]
    },
    {
      "cell_type": "code",
      "metadata": {
        "id": "-23eR7Y3rVVG",
        "colab_type": "code",
        "colab": {
          "base_uri": "https://localhost:8080/",
          "height": 122
        },
        "outputId": "f6dcd2f9-aad4-4c7c-c1f7-36d0dfda2029"
      },
      "source": [
        "# 종속변수 확인\n",
        "print(종속[5:10])"
      ],
      "execution_count": null,
      "outputs": [
        {
          "output_type": "stream",
          "text": [
            "   medv\n",
            "5  28.7\n",
            "6  22.9\n",
            "7  27.1\n",
            "8  16.5\n",
            "9  18.9\n"
          ],
          "name": "stdout"
        }
      ]
    },
    {
      "cell_type": "markdown",
      "metadata": {
        "id": "Bl-QPChNrhFH",
        "colab_type": "text"
      },
      "source": [
        "#### 모델이 예측한 답은 27로 실제 정답 28과 근접하게 예측"
      ]
    },
    {
      "cell_type": "markdown",
      "metadata": {
        "id": "HvYhshWAluF6",
        "colab_type": "text"
      },
      "source": [
        "## 모델의 수식 확인"
      ]
    },
    {
      "cell_type": "code",
      "metadata": {
        "id": "LA5ucxzWVrKl",
        "colab_type": "code",
        "colab": {
          "base_uri": "https://localhost:8080/",
          "height": 244
        },
        "outputId": "ac95c7ac-f205-47f4-f26b-e387269ff1f9"
      },
      "source": [
        "# 위에서 만든 모델이 어떤 수식을 나타내는지 확인\n",
        "print(model.get_weights())"
      ],
      "execution_count": null,
      "outputs": [
        {
          "output_type": "stream",
          "text": [
            "[array([[-0.08497578],\n",
            "       [ 0.06984271],\n",
            "       [-0.04837529],\n",
            "       [ 3.2425272 ],\n",
            "       [ 2.0839899 ],\n",
            "       [ 4.0191584 ],\n",
            "       [ 0.01836404],\n",
            "       [-0.8215074 ],\n",
            "       [ 0.1544183 ],\n",
            "       [-0.008124  ],\n",
            "       [-0.03703214],\n",
            "       [ 0.01716591],\n",
            "       [-0.5755071 ]], dtype=float32), array([2.7098472], dtype=float32)]\n"
          ],
          "name": "stdout"
        }
      ]
    },
    {
      "cell_type": "markdown",
      "metadata": {
        "id": "zSjSxr7-tg-t",
        "colab_type": "text"
      },
      "source": [
        "집값 = **-0.0877063** * x1 + **0.06811162** * x2 + **-0.05097916** * x3 +**3.161858** * x4 + **2.0610712** *  x5 + **4.1679783** * x6 + **0.01201626** * x7 + **-0.8541004** * x8 + **0.15478158** * x9 + **-0.01025803** *  x10 + **-0.07097264** * x11 + **0.01531505** * x12 + **-0.5631289** * x13 + **2.67773**"
      ]
    }
  ]
}