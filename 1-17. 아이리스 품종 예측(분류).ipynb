{
  "nbformat": 4,
  "nbformat_minor": 0,
  "metadata": {
    "colab": {
      "name": "1-17. 아이리스 품종 예측(분류)",
      "provenance": [],
      "collapsed_sections": []
    },
    "kernelspec": {
      "name": "python3",
      "display_name": "Python 3"
    },
    "accelerator": "GPU"
  },
  "cells": [
    {
      "cell_type": "code",
      "metadata": {
        "id": "1ssljFetsa7g",
        "colab_type": "code",
        "colab": {}
      },
      "source": [
        "import tensorflow as tf\n",
        "import pandas as pd"
      ],
      "execution_count": 2,
      "outputs": []
    },
    {
      "cell_type": "markdown",
      "metadata": {
        "id": "T-FykdZ4seHn",
        "colab_type": "text"
      },
      "source": [
        "## 1. 데이터 준비"
      ]
    },
    {
      "cell_type": "code",
      "metadata": {
        "id": "jjZXFbCDc-Sb",
        "colab_type": "code",
        "colab": {
          "base_uri": "https://localhost:8080/",
          "height": 197
        },
        "outputId": "19947b8d-4c24-4904-e693-82c55e44d840"
      },
      "source": [
        "파일경로 = 'https://raw.githubusercontent.com/blackdew/tensorflow1/master/csv/iris.csv'\n",
        "아이리스 = pd.read_csv(파일경로)\n",
        "아이리스.head()\n",
        "\n",
        "# 레모네이드, 보스턴 데이터는 종속변수가 판매량, 집값과 같은 수치형 변수 -> 회귀 \n",
        "# 아이리스 데이터 종속변수는 품종으로 범주형 변수 -> 분류 "
      ],
      "execution_count": 3,
      "outputs": [
        {
          "output_type": "execute_result",
          "data": {
            "text/html": [
              "<div>\n",
              "<style scoped>\n",
              "    .dataframe tbody tr th:only-of-type {\n",
              "        vertical-align: middle;\n",
              "    }\n",
              "\n",
              "    .dataframe tbody tr th {\n",
              "        vertical-align: top;\n",
              "    }\n",
              "\n",
              "    .dataframe thead th {\n",
              "        text-align: right;\n",
              "    }\n",
              "</style>\n",
              "<table border=\"1\" class=\"dataframe\">\n",
              "  <thead>\n",
              "    <tr style=\"text-align: right;\">\n",
              "      <th></th>\n",
              "      <th>꽃잎길이</th>\n",
              "      <th>꽃잎폭</th>\n",
              "      <th>꽃받침길이</th>\n",
              "      <th>꽃받침폭</th>\n",
              "      <th>품종</th>\n",
              "    </tr>\n",
              "  </thead>\n",
              "  <tbody>\n",
              "    <tr>\n",
              "      <th>0</th>\n",
              "      <td>5.1</td>\n",
              "      <td>3.5</td>\n",
              "      <td>1.4</td>\n",
              "      <td>0.2</td>\n",
              "      <td>setosa</td>\n",
              "    </tr>\n",
              "    <tr>\n",
              "      <th>1</th>\n",
              "      <td>4.9</td>\n",
              "      <td>3.0</td>\n",
              "      <td>1.4</td>\n",
              "      <td>0.2</td>\n",
              "      <td>setosa</td>\n",
              "    </tr>\n",
              "    <tr>\n",
              "      <th>2</th>\n",
              "      <td>4.7</td>\n",
              "      <td>3.2</td>\n",
              "      <td>1.3</td>\n",
              "      <td>0.2</td>\n",
              "      <td>setosa</td>\n",
              "    </tr>\n",
              "    <tr>\n",
              "      <th>3</th>\n",
              "      <td>4.6</td>\n",
              "      <td>3.1</td>\n",
              "      <td>1.5</td>\n",
              "      <td>0.2</td>\n",
              "      <td>setosa</td>\n",
              "    </tr>\n",
              "    <tr>\n",
              "      <th>4</th>\n",
              "      <td>5.0</td>\n",
              "      <td>3.6</td>\n",
              "      <td>1.4</td>\n",
              "      <td>0.2</td>\n",
              "      <td>setosa</td>\n",
              "    </tr>\n",
              "  </tbody>\n",
              "</table>\n",
              "</div>"
            ],
            "text/plain": [
              "   꽃잎길이  꽃잎폭  꽃받침길이  꽃받침폭      품종\n",
              "0   5.1  3.5    1.4   0.2  setosa\n",
              "1   4.9  3.0    1.4   0.2  setosa\n",
              "2   4.7  3.2    1.3   0.2  setosa\n",
              "3   4.6  3.1    1.5   0.2  setosa\n",
              "4   5.0  3.6    1.4   0.2  setosa"
            ]
          },
          "metadata": {
            "tags": []
          },
          "execution_count": 3
        }
      ]
    },
    {
      "cell_type": "markdown",
      "metadata": {
        "id": "mD16ovb-tU4-",
        "colab_type": "text"
      },
      "source": [
        "#### 회귀와 분류를 나누는 기준은 종속변수의 데이터 타입\n",
        "- 종속변수가 양적: 회귀\n",
        "- 종속변수가 범주형: 분류"
      ]
    },
    {
      "cell_type": "markdown",
      "metadata": {
        "id": "3k2n_9T8sieh",
        "colab_type": "text"
      },
      "source": [
        "## 원핫인코딩\n",
        "- 퍼셉트론 수식의 종속변수 y는 범주형 데이터를 사용할 수 없음\n",
        "- 범주형 데이터를 수치형 데이터로 변환\n",
        "  - 범주들을 3개의 칼럼으로 만듬\n",
        "  - 0 또는 1의 수치형 데이터로 변경됨 => 원핫인코딩"
      ]
    },
    {
      "cell_type": "code",
      "metadata": {
        "id": "Pg9D5TgBhVC7",
        "colab_type": "code",
        "colab": {
          "base_uri": "https://localhost:8080/",
          "height": 214
        },
        "outputId": "989af5f7-9555-4491-a95b-d7b9c085e259"
      },
      "source": [
        "인코딩 = pd.get_dummies(아이리스)  # 데이터의 범주형 변수들만 적용됨\n",
        "인코딩.head()"
      ],
      "execution_count": 4,
      "outputs": [
        {
          "output_type": "execute_result",
          "data": {
            "text/html": [
              "<div>\n",
              "<style scoped>\n",
              "    .dataframe tbody tr th:only-of-type {\n",
              "        vertical-align: middle;\n",
              "    }\n",
              "\n",
              "    .dataframe tbody tr th {\n",
              "        vertical-align: top;\n",
              "    }\n",
              "\n",
              "    .dataframe thead th {\n",
              "        text-align: right;\n",
              "    }\n",
              "</style>\n",
              "<table border=\"1\" class=\"dataframe\">\n",
              "  <thead>\n",
              "    <tr style=\"text-align: right;\">\n",
              "      <th></th>\n",
              "      <th>꽃잎길이</th>\n",
              "      <th>꽃잎폭</th>\n",
              "      <th>꽃받침길이</th>\n",
              "      <th>꽃받침폭</th>\n",
              "      <th>품종_setosa</th>\n",
              "      <th>품종_versicolor</th>\n",
              "      <th>품종_virginica</th>\n",
              "    </tr>\n",
              "  </thead>\n",
              "  <tbody>\n",
              "    <tr>\n",
              "      <th>0</th>\n",
              "      <td>5.1</td>\n",
              "      <td>3.5</td>\n",
              "      <td>1.4</td>\n",
              "      <td>0.2</td>\n",
              "      <td>1</td>\n",
              "      <td>0</td>\n",
              "      <td>0</td>\n",
              "    </tr>\n",
              "    <tr>\n",
              "      <th>1</th>\n",
              "      <td>4.9</td>\n",
              "      <td>3.0</td>\n",
              "      <td>1.4</td>\n",
              "      <td>0.2</td>\n",
              "      <td>1</td>\n",
              "      <td>0</td>\n",
              "      <td>0</td>\n",
              "    </tr>\n",
              "    <tr>\n",
              "      <th>2</th>\n",
              "      <td>4.7</td>\n",
              "      <td>3.2</td>\n",
              "      <td>1.3</td>\n",
              "      <td>0.2</td>\n",
              "      <td>1</td>\n",
              "      <td>0</td>\n",
              "      <td>0</td>\n",
              "    </tr>\n",
              "    <tr>\n",
              "      <th>3</th>\n",
              "      <td>4.6</td>\n",
              "      <td>3.1</td>\n",
              "      <td>1.5</td>\n",
              "      <td>0.2</td>\n",
              "      <td>1</td>\n",
              "      <td>0</td>\n",
              "      <td>0</td>\n",
              "    </tr>\n",
              "    <tr>\n",
              "      <th>4</th>\n",
              "      <td>5.0</td>\n",
              "      <td>3.6</td>\n",
              "      <td>1.4</td>\n",
              "      <td>0.2</td>\n",
              "      <td>1</td>\n",
              "      <td>0</td>\n",
              "      <td>0</td>\n",
              "    </tr>\n",
              "  </tbody>\n",
              "</table>\n",
              "</div>"
            ],
            "text/plain": [
              "   꽃잎길이  꽃잎폭  꽃받침길이  꽃받침폭  품종_setosa  품종_versicolor  품종_virginica\n",
              "0   5.1  3.5    1.4   0.2          1              0             0\n",
              "1   4.9  3.0    1.4   0.2          1              0             0\n",
              "2   4.7  3.2    1.3   0.2          1              0             0\n",
              "3   4.6  3.1    1.5   0.2          1              0             0\n",
              "4   5.0  3.6    1.4   0.2          1              0             0"
            ]
          },
          "metadata": {
            "tags": []
          },
          "execution_count": 4
        }
      ]
    },
    {
      "cell_type": "markdown",
      "metadata": {
        "id": "dE9lsjwMsnz0",
        "colab_type": "text"
      },
      "source": [
        "## 독립변수, 종속변수 분리"
      ]
    },
    {
      "cell_type": "code",
      "metadata": {
        "id": "qetzh63uhgRx",
        "colab_type": "code",
        "colab": {
          "base_uri": "https://localhost:8080/",
          "height": 34
        },
        "outputId": "578b5fd0-30d2-40d4-e35a-3b254cc19563"
      },
      "source": [
        "독립 = 인코딩[['꽃잎길이', '꽃잎폭', '꽃받침길이', '꽃받침폭']]      # 입력층 4개\n",
        "종속 = 인코딩[['품종_setosa', '품종_versicolor', '품종_virginica']]  # 출력층 3개\n",
        "print(독립.shape, 종속.shape)"
      ],
      "execution_count": 5,
      "outputs": [
        {
          "output_type": "stream",
          "text": [
            "(150, 4) (150, 3)\n"
          ],
          "name": "stdout"
        }
      ]
    },
    {
      "cell_type": "markdown",
      "metadata": {
        "id": "9NbMlAqLssm_",
        "colab_type": "text"
      },
      "source": [
        "## 2. 모델 생성"
      ]
    },
    {
      "cell_type": "code",
      "metadata": {
        "id": "x9LngWLtc_v7",
        "colab_type": "code",
        "colab": {}
      },
      "source": [
        "X = tf.keras.layers.Input(shape=[4])                   # 입력층 4개\n",
        "Y = tf.keras.layers.Dense(3, activation='softmax')(X)  # 출력층 3개\n",
        "model = tf.keras.models.Model(X, Y)                    # 모델 생성\n",
        "model.compile(loss='categorical_crossentropy', metrics='accuracy')\n",
        "                                                                   "
      ],
      "execution_count": 6,
      "outputs": []
    },
    {
      "cell_type": "markdown",
      "metadata": {
        "id": "3POu0s5eyeYN",
        "colab_type": "text"
      },
      "source": [
        "#### 활성화 함수(Activation)\n",
        "- 회귀모델: 입력을 출력으로 만드는 Identity 함수가 있어 불필요 함\n",
        "- 분류모델: softmax, sigmoid\n",
        " - y3 = softmax(w1x1 + w2x2 + w3x3 + b) 하면 0 ~ 1사이 값으로 표현해 줌  "
      ]
    },
    {
      "cell_type": "markdown",
      "metadata": {
        "id": "PM59jLyezSy7",
        "colab_type": "text"
      },
      "source": [
        "#### loss: 모델의 결과와 실제 정답과 차이가 있는지 알아보기 위함\n",
        "- loss가 0이면 모든 정답을 맞춘 모델이며 loss를 최소화시키는 것이 학습의 목표 => 분류와 회귀에 맞게 사용해야 함\n",
        "   - 회귀의 loss: mse\n",
        "   - 분류의 loss: categorical_crossentropy\n",
        "- 분류에서는 loss를 사람이 보기 편하게 정확도를 제공함\n",
        "   - metrics='accuracy'"
      ]
    },
    {
      "cell_type": "markdown",
      "metadata": {
        "id": "6CRZdyKNs46B",
        "colab_type": "text"
      },
      "source": [
        "## 3. 모델 학습"
      ]
    },
    {
      "cell_type": "code",
      "metadata": {
        "id": "J5HhGmzWdIve",
        "colab_type": "code",
        "colab": {
          "base_uri": "https://localhost:8080/",
          "height": 1000
        },
        "outputId": "2e9c05e2-83d5-481c-9f87-c0e13f4d855c"
      },
      "source": [
        "model.fit(독립, 종속, epochs=100)"
      ],
      "execution_count": 7,
      "outputs": [
        {
          "output_type": "stream",
          "text": [
            "Epoch 1/100\n",
            "5/5 [==============================] - 0s 4ms/step - loss: 4.9363 - accuracy: 0.3333\n",
            "Epoch 2/100\n",
            "5/5 [==============================] - 0s 3ms/step - loss: 4.7823 - accuracy: 0.3333\n",
            "Epoch 3/100\n",
            "5/5 [==============================] - 0s 3ms/step - loss: 4.6696 - accuracy: 0.3333\n",
            "Epoch 4/100\n",
            "5/5 [==============================] - 0s 3ms/step - loss: 4.5719 - accuracy: 0.3333\n",
            "Epoch 5/100\n",
            "5/5 [==============================] - 0s 3ms/step - loss: 4.4814 - accuracy: 0.3333\n",
            "Epoch 6/100\n",
            "5/5 [==============================] - 0s 3ms/step - loss: 4.3949 - accuracy: 0.3333\n",
            "Epoch 7/100\n",
            "5/5 [==============================] - 0s 3ms/step - loss: 4.3111 - accuracy: 0.3333\n",
            "Epoch 8/100\n",
            "5/5 [==============================] - 0s 3ms/step - loss: 4.2283 - accuracy: 0.3333\n",
            "Epoch 9/100\n",
            "5/5 [==============================] - 0s 3ms/step - loss: 4.1487 - accuracy: 0.3333\n",
            "Epoch 10/100\n",
            "5/5 [==============================] - 0s 3ms/step - loss: 4.0707 - accuracy: 0.3333\n",
            "Epoch 11/100\n",
            "5/5 [==============================] - 0s 3ms/step - loss: 3.9927 - accuracy: 0.3333\n",
            "Epoch 12/100\n",
            "5/5 [==============================] - 0s 3ms/step - loss: 3.9175 - accuracy: 0.3333\n",
            "Epoch 13/100\n",
            "5/5 [==============================] - 0s 3ms/step - loss: 3.8424 - accuracy: 0.3333\n",
            "Epoch 14/100\n",
            "5/5 [==============================] - 0s 3ms/step - loss: 3.7696 - accuracy: 0.3333\n",
            "Epoch 15/100\n",
            "5/5 [==============================] - 0s 3ms/step - loss: 3.6973 - accuracy: 0.3333\n",
            "Epoch 16/100\n",
            "5/5 [==============================] - 0s 3ms/step - loss: 3.6273 - accuracy: 0.3333\n",
            "Epoch 17/100\n",
            "5/5 [==============================] - 0s 3ms/step - loss: 3.5584 - accuracy: 0.3333\n",
            "Epoch 18/100\n",
            "5/5 [==============================] - 0s 3ms/step - loss: 3.4907 - accuracy: 0.3333\n",
            "Epoch 19/100\n",
            "5/5 [==============================] - 0s 3ms/step - loss: 3.4246 - accuracy: 0.3333\n",
            "Epoch 20/100\n",
            "5/5 [==============================] - 0s 3ms/step - loss: 3.3601 - accuracy: 0.3333\n",
            "Epoch 21/100\n",
            "5/5 [==============================] - 0s 3ms/step - loss: 3.2946 - accuracy: 0.3333\n",
            "Epoch 22/100\n",
            "5/5 [==============================] - 0s 3ms/step - loss: 3.2299 - accuracy: 0.3333\n",
            "Epoch 23/100\n",
            "5/5 [==============================] - 0s 3ms/step - loss: 3.1684 - accuracy: 0.3333\n",
            "Epoch 24/100\n",
            "5/5 [==============================] - 0s 3ms/step - loss: 3.1068 - accuracy: 0.3333\n",
            "Epoch 25/100\n",
            "5/5 [==============================] - 0s 3ms/step - loss: 3.0445 - accuracy: 0.3333\n",
            "Epoch 26/100\n",
            "5/5 [==============================] - 0s 3ms/step - loss: 2.9831 - accuracy: 0.3333\n",
            "Epoch 27/100\n",
            "5/5 [==============================] - 0s 3ms/step - loss: 2.9237 - accuracy: 0.3333\n",
            "Epoch 28/100\n",
            "5/5 [==============================] - 0s 5ms/step - loss: 2.8666 - accuracy: 0.3333\n",
            "Epoch 29/100\n",
            "5/5 [==============================] - 0s 3ms/step - loss: 2.8106 - accuracy: 0.3333\n",
            "Epoch 30/100\n",
            "5/5 [==============================] - 0s 3ms/step - loss: 2.7556 - accuracy: 0.3333\n",
            "Epoch 31/100\n",
            "5/5 [==============================] - 0s 3ms/step - loss: 2.6984 - accuracy: 0.3333\n",
            "Epoch 32/100\n",
            "5/5 [==============================] - 0s 4ms/step - loss: 2.6422 - accuracy: 0.3333\n",
            "Epoch 33/100\n",
            "5/5 [==============================] - 0s 3ms/step - loss: 2.5839 - accuracy: 0.3267\n",
            "Epoch 34/100\n",
            "5/5 [==============================] - 0s 3ms/step - loss: 2.5269 - accuracy: 0.3267\n",
            "Epoch 35/100\n",
            "5/5 [==============================] - 0s 3ms/step - loss: 2.4740 - accuracy: 0.3267\n",
            "Epoch 36/100\n",
            "5/5 [==============================] - 0s 3ms/step - loss: 2.4210 - accuracy: 0.3267\n",
            "Epoch 37/100\n",
            "5/5 [==============================] - 0s 3ms/step - loss: 2.3669 - accuracy: 0.3267\n",
            "Epoch 38/100\n",
            "5/5 [==============================] - 0s 3ms/step - loss: 2.3152 - accuracy: 0.3267\n",
            "Epoch 39/100\n",
            "5/5 [==============================] - 0s 5ms/step - loss: 2.2609 - accuracy: 0.3267\n",
            "Epoch 40/100\n",
            "5/5 [==============================] - 0s 3ms/step - loss: 2.2085 - accuracy: 0.3267\n",
            "Epoch 41/100\n",
            "5/5 [==============================] - 0s 3ms/step - loss: 2.1567 - accuracy: 0.3267\n",
            "Epoch 42/100\n",
            "5/5 [==============================] - 0s 3ms/step - loss: 2.1083 - accuracy: 0.3267\n",
            "Epoch 43/100\n",
            "5/5 [==============================] - 0s 3ms/step - loss: 2.0579 - accuracy: 0.3267\n",
            "Epoch 44/100\n",
            "5/5 [==============================] - 0s 3ms/step - loss: 2.0081 - accuracy: 0.3133\n",
            "Epoch 45/100\n",
            "5/5 [==============================] - 0s 3ms/step - loss: 1.9572 - accuracy: 0.3200\n",
            "Epoch 46/100\n",
            "5/5 [==============================] - 0s 3ms/step - loss: 1.9090 - accuracy: 0.3200\n",
            "Epoch 47/100\n",
            "5/5 [==============================] - 0s 3ms/step - loss: 1.8618 - accuracy: 0.3200\n",
            "Epoch 48/100\n",
            "5/5 [==============================] - 0s 3ms/step - loss: 1.8149 - accuracy: 0.3000\n",
            "Epoch 49/100\n",
            "5/5 [==============================] - 0s 3ms/step - loss: 1.7690 - accuracy: 0.3067\n",
            "Epoch 50/100\n",
            "5/5 [==============================] - 0s 3ms/step - loss: 1.7244 - accuracy: 0.3000\n",
            "Epoch 51/100\n",
            "5/5 [==============================] - 0s 3ms/step - loss: 1.6814 - accuracy: 0.3000\n",
            "Epoch 52/100\n",
            "5/5 [==============================] - 0s 3ms/step - loss: 1.6405 - accuracy: 0.3000\n",
            "Epoch 53/100\n",
            "5/5 [==============================] - 0s 3ms/step - loss: 1.6012 - accuracy: 0.3000\n",
            "Epoch 54/100\n",
            "5/5 [==============================] - 0s 3ms/step - loss: 1.5638 - accuracy: 0.3000\n",
            "Epoch 55/100\n",
            "5/5 [==============================] - 0s 3ms/step - loss: 1.5263 - accuracy: 0.3000\n",
            "Epoch 56/100\n",
            "5/5 [==============================] - 0s 3ms/step - loss: 1.4938 - accuracy: 0.3000\n",
            "Epoch 57/100\n",
            "5/5 [==============================] - 0s 3ms/step - loss: 1.4615 - accuracy: 0.2933\n",
            "Epoch 58/100\n",
            "5/5 [==============================] - 0s 3ms/step - loss: 1.4328 - accuracy: 0.3000\n",
            "Epoch 59/100\n",
            "5/5 [==============================] - 0s 3ms/step - loss: 1.4050 - accuracy: 0.3000\n",
            "Epoch 60/100\n",
            "5/5 [==============================] - 0s 3ms/step - loss: 1.3817 - accuracy: 0.2933\n",
            "Epoch 61/100\n",
            "5/5 [==============================] - 0s 3ms/step - loss: 1.3596 - accuracy: 0.2800\n",
            "Epoch 62/100\n",
            "5/5 [==============================] - 0s 3ms/step - loss: 1.3392 - accuracy: 0.2667\n",
            "Epoch 63/100\n",
            "5/5 [==============================] - 0s 3ms/step - loss: 1.3209 - accuracy: 0.2800\n",
            "Epoch 64/100\n",
            "5/5 [==============================] - 0s 3ms/step - loss: 1.3035 - accuracy: 0.2533\n",
            "Epoch 65/100\n",
            "5/5 [==============================] - 0s 3ms/step - loss: 1.2885 - accuracy: 0.2400\n",
            "Epoch 66/100\n",
            "5/5 [==============================] - 0s 3ms/step - loss: 1.2764 - accuracy: 0.2133\n",
            "Epoch 67/100\n",
            "5/5 [==============================] - 0s 3ms/step - loss: 1.2640 - accuracy: 0.2333\n",
            "Epoch 68/100\n",
            "5/5 [==============================] - 0s 3ms/step - loss: 1.2531 - accuracy: 0.2267\n",
            "Epoch 69/100\n",
            "5/5 [==============================] - 0s 4ms/step - loss: 1.2415 - accuracy: 0.2533\n",
            "Epoch 70/100\n",
            "5/5 [==============================] - 0s 3ms/step - loss: 1.2306 - accuracy: 0.2667\n",
            "Epoch 71/100\n",
            "5/5 [==============================] - 0s 4ms/step - loss: 1.2208 - accuracy: 0.2933\n",
            "Epoch 72/100\n",
            "5/5 [==============================] - 0s 3ms/step - loss: 1.2116 - accuracy: 0.3000\n",
            "Epoch 73/100\n",
            "5/5 [==============================] - 0s 3ms/step - loss: 1.2021 - accuracy: 0.2867\n",
            "Epoch 74/100\n",
            "5/5 [==============================] - 0s 3ms/step - loss: 1.1935 - accuracy: 0.3200\n",
            "Epoch 75/100\n",
            "5/5 [==============================] - 0s 3ms/step - loss: 1.1835 - accuracy: 0.3267\n",
            "Epoch 76/100\n",
            "5/5 [==============================] - 0s 3ms/step - loss: 1.1740 - accuracy: 0.3267\n",
            "Epoch 77/100\n",
            "5/5 [==============================] - 0s 3ms/step - loss: 1.1658 - accuracy: 0.3267\n",
            "Epoch 78/100\n",
            "5/5 [==============================] - 0s 3ms/step - loss: 1.1575 - accuracy: 0.3333\n",
            "Epoch 79/100\n",
            "5/5 [==============================] - 0s 3ms/step - loss: 1.1478 - accuracy: 0.3400\n",
            "Epoch 80/100\n",
            "5/5 [==============================] - 0s 3ms/step - loss: 1.1387 - accuracy: 0.3333\n",
            "Epoch 81/100\n",
            "5/5 [==============================] - 0s 3ms/step - loss: 1.1301 - accuracy: 0.3333\n",
            "Epoch 82/100\n",
            "5/5 [==============================] - 0s 3ms/step - loss: 1.1212 - accuracy: 0.3333\n",
            "Epoch 83/100\n",
            "5/5 [==============================] - 0s 4ms/step - loss: 1.1121 - accuracy: 0.3400\n",
            "Epoch 84/100\n",
            "5/5 [==============================] - 0s 4ms/step - loss: 1.1053 - accuracy: 0.3333\n",
            "Epoch 85/100\n",
            "5/5 [==============================] - 0s 3ms/step - loss: 1.0957 - accuracy: 0.3333\n",
            "Epoch 86/100\n",
            "5/5 [==============================] - 0s 3ms/step - loss: 1.0885 - accuracy: 0.3333\n",
            "Epoch 87/100\n",
            "5/5 [==============================] - 0s 3ms/step - loss: 1.0791 - accuracy: 0.3333\n",
            "Epoch 88/100\n",
            "5/5 [==============================] - 0s 3ms/step - loss: 1.0710 - accuracy: 0.3333\n",
            "Epoch 89/100\n",
            "5/5 [==============================] - 0s 3ms/step - loss: 1.0622 - accuracy: 0.3400\n",
            "Epoch 90/100\n",
            "5/5 [==============================] - 0s 3ms/step - loss: 1.0546 - accuracy: 0.3333\n",
            "Epoch 91/100\n",
            "5/5 [==============================] - 0s 3ms/step - loss: 1.0462 - accuracy: 0.3400\n",
            "Epoch 92/100\n",
            "5/5 [==============================] - 0s 3ms/step - loss: 1.0396 - accuracy: 0.3400\n",
            "Epoch 93/100\n",
            "5/5 [==============================] - 0s 3ms/step - loss: 1.0305 - accuracy: 0.3467\n",
            "Epoch 94/100\n",
            "5/5 [==============================] - 0s 3ms/step - loss: 1.0230 - accuracy: 0.3400\n",
            "Epoch 95/100\n",
            "5/5 [==============================] - 0s 3ms/step - loss: 1.0151 - accuracy: 0.4133\n",
            "Epoch 96/100\n",
            "5/5 [==============================] - 0s 3ms/step - loss: 1.0080 - accuracy: 0.4200\n",
            "Epoch 97/100\n",
            "5/5 [==============================] - 0s 3ms/step - loss: 1.0000 - accuracy: 0.4600\n",
            "Epoch 98/100\n",
            "5/5 [==============================] - 0s 4ms/step - loss: 0.9927 - accuracy: 0.5067\n",
            "Epoch 99/100\n",
            "5/5 [==============================] - 0s 3ms/step - loss: 0.9844 - accuracy: 0.5267\n",
            "Epoch 100/100\n",
            "5/5 [==============================] - 0s 3ms/step - loss: 0.9770 - accuracy: 0.5600\n"
          ],
          "name": "stdout"
        },
        {
          "output_type": "execute_result",
          "data": {
            "text/plain": [
              "<tensorflow.python.keras.callbacks.History at 0x7f38a094bcc0>"
            ]
          },
          "metadata": {
            "tags": []
          },
          "execution_count": 7
        }
      ]
    },
    {
      "cell_type": "markdown",
      "metadata": {
        "id": "H743m3NNs-yL",
        "colab_type": "text"
      },
      "source": [
        "## 4. 모델 예측"
      ]
    },
    {
      "cell_type": "code",
      "metadata": {
        "id": "YbXAjULedNpB",
        "colab_type": "code",
        "colab": {
          "base_uri": "https://localhost:8080/",
          "height": 209
        },
        "outputId": "738df66b-1df3-4648-9a1a-e0779a272e5a"
      },
      "source": [
        "# 맨 처음 데이터 5개\n",
        "print(model.predict(독립[:5]))\n",
        "print(종속[:5]) "
      ],
      "execution_count": 8,
      "outputs": [
        {
          "output_type": "stream",
          "text": [
            "[[0.38161734 0.34117597 0.2772067 ]\n",
            " [0.35634053 0.29089245 0.35276705]\n",
            " [0.38069668 0.326597   0.29270628]\n",
            " [0.37407845 0.35011616 0.27580538]\n",
            " [0.38953224 0.36535886 0.24510886]]\n",
            "   품종_setosa  품종_versicolor  품종_virginica\n",
            "0          1              0             0\n",
            "1          1              0             0\n",
            "2          1              0             0\n",
            "3          1              0             0\n",
            "4          1              0             0\n"
          ],
          "name": "stdout"
        }
      ]
    },
    {
      "cell_type": "code",
      "metadata": {
        "id": "kjQtY2947B8o",
        "colab_type": "code",
        "colab": {
          "base_uri": "https://localhost:8080/",
          "height": 209
        },
        "outputId": "88701be3-47e9-4ffa-d0d9-d95217a6db96"
      },
      "source": [
        "# 맨 마지막 데이터 5개\n",
        "print(model.predict(독립[-5:]))\n",
        "print(종속[-5:])"
      ],
      "execution_count": 9,
      "outputs": [
        {
          "output_type": "stream",
          "text": [
            "[[0.19612269 0.22360021 0.58027714]\n",
            " [0.19311894 0.23316918 0.5737118 ]\n",
            " [0.21975519 0.3033323  0.47691253]\n",
            " [0.24909185 0.38549057 0.3654176 ]\n",
            " [0.24723333 0.40874738 0.3440193 ]]\n",
            "     품종_setosa  품종_versicolor  품종_virginica\n",
            "145          0              0             1\n",
            "146          0              0             1\n",
            "147          0              0             1\n",
            "148          0              0             1\n",
            "149          0              0             1\n"
          ],
          "name": "stdout"
        }
      ]
    },
    {
      "cell_type": "markdown",
      "metadata": {
        "id": "4allPgEJB9Ba",
        "colab_type": "text"
      },
      "source": [
        "## 가중치 출력"
      ]
    },
    {
      "cell_type": "code",
      "metadata": {
        "id": "bgFs6C9Jidm0",
        "colab_type": "code",
        "colab": {
          "base_uri": "https://localhost:8080/",
          "height": 87
        },
        "outputId": "28acfcec-0b07-433a-ce0b-efd4b5785820"
      },
      "source": [
        "print(model.get_weights())"
      ],
      "execution_count": 11,
      "outputs": [
        {
          "output_type": "stream",
          "text": [
            "[array([[-0.8790319 , -1.0916798 , -0.2956451 ],\n",
            "       [ 0.2504373 ,  0.5173215 , -0.6020702 ],\n",
            "       [ 0.03574235,  0.4982365 , -0.30850476],\n",
            "       [-0.3913176 , -0.88687015,  0.2529141 ]], dtype=float32), array([ 0.17772312, -0.33226866,  0.21967109], dtype=float32)]\n"
          ],
          "name": "stdout"
        }
      ]
    },
    {
      "cell_type": "markdown",
      "metadata": {
        "id": "VNOAjOMPBpFn",
        "colab_type": "text"
      },
      "source": [
        "#### 첫번째 열: 세토사의 꽃잎길이, 꽃잎폭, 꽃받침길이, 꽃받침 폭을 예측하는 수식"
      ]
    },
    {
      "cell_type": "code",
      "metadata": {
        "id": "DDrC7NLDitPc",
        "colab_type": "code",
        "colab": {}
      },
      "source": [
        ""
      ],
      "execution_count": 10,
      "outputs": []
    }
  ]
}