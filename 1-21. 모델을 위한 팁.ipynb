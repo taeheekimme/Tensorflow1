{
  "nbformat": 4,
  "nbformat_minor": 0,
  "metadata": {
    "colab": {
      "name": "1-21. 모델을 위한 팁",
      "provenance": [],
      "collapsed_sections": []
    },
    "kernelspec": {
      "name": "python3",
      "display_name": "Python 3"
    }
  },
  "cells": [
    {
      "cell_type": "markdown",
      "metadata": {
        "id": "zEFi1Ae2C5_L",
        "colab_type": "text"
      },
      "source": [
        "# 학습이 잘 되기 위해 사용할 레이어\n",
        "  - tf.keras.layers.BatchNormalization()\n",
        "  - tf.keras.layers.Activation('swish')\n",
        "\n"
      ]
    },
    {
      "cell_type": "code",
      "metadata": {
        "id": "aEzxVv8bC5c-",
        "colab_type": "code",
        "colab": {}
      },
      "source": [
        "import tensorflow as tf\n",
        "import pandas as pd"
      ],
      "execution_count": 1,
      "outputs": []
    },
    {
      "cell_type": "markdown",
      "metadata": {
        "id": "c10MnBG3GZPt",
        "colab_type": "text"
      },
      "source": [
        "## 1. 데이터 준비"
      ]
    },
    {
      "cell_type": "code",
      "metadata": {
        "id": "TXACSjkpCULr",
        "colab_type": "code",
        "colab": {}
      },
      "source": [
        "파일경로 = 'https://raw.githubusercontent.com/blackdew/tensorflow1/master/csv/boston.csv'\n",
        "보스턴 = pd.read_csv(파일경로)"
      ],
      "execution_count": 2,
      "outputs": []
    },
    {
      "cell_type": "markdown",
      "metadata": {
        "id": "ml4rMkboGeFq",
        "colab_type": "text"
      },
      "source": [
        "## 종속변수, 독립변수 분리"
      ]
    },
    {
      "cell_type": "code",
      "metadata": {
        "id": "Q_Wlhwv2Ggf_",
        "colab_type": "code",
        "colab": {
          "base_uri": "https://localhost:8080/",
          "height": 34
        },
        "outputId": "f169f53a-0060-4ea9-ed2b-bf90d1218d09"
      },
      "source": [
        "독립 = 보스턴[['crim', 'zn', 'indus', 'chas', 'nox', 'rm', 'age', 'dis', 'rad', 'tax', 'ptratio', 'b', 'lstat']]\n",
        "종속 = 보스턴[['medv']]\n",
        "print(독립.shape, 종속.shape)"
      ],
      "execution_count": 3,
      "outputs": [
        {
          "output_type": "stream",
          "text": [
            "(506, 13) (506, 1)\n"
          ],
          "name": "stdout"
        }
      ]
    },
    {
      "cell_type": "markdown",
      "metadata": {
        "id": "lVAtmHs-Gl3M",
        "colab_type": "text"
      },
      "source": [
        "## 2. 기존 모델"
      ]
    },
    {
      "cell_type": "code",
      "metadata": {
        "id": "r2HLtEEeDH9D",
        "colab_type": "code",
        "colab": {}
      },
      "source": [
        "#X = tf.keras.layers.Input(shape=[13])\n",
        "#H = tf.keras.layers.Dense(8, activation='swish')(X)\n",
        "#H = tf.keras.layers.Dense(8, activation='swish')(H)\n",
        "#H = tf.keras.layers.Dense(8, activation='swish')(H)\n",
        "#Y = tf.keras.layers.Dense(1)(H)\n",
        "#model = tf.keras.models.Model(X, Y)\n",
        "#model.compile(loss='mse')"
      ],
      "execution_count": 4,
      "outputs": []
    },
    {
      "cell_type": "markdown",
      "metadata": {
        "id": "j_O4ORkQHTNp",
        "colab_type": "text"
      },
      "source": [
        "## 2. BatchNormalization layer를 사용하여 모델 생성"
      ]
    },
    {
      "cell_type": "code",
      "metadata": {
        "id": "CNw5l0IQE31m",
        "colab_type": "code",
        "colab": {}
      },
      "source": [
        "X = tf.keras.layers.Input(shape=[13])\n",
        "\n",
        "H = tf.keras.layers.Dense(8)(X)\n",
        "H = tf.keras.layers.BatchNormalization()(H) # BatchNormalization은 Dense와 활성화함수 사이에 작성\n",
        "H = tf.keras.layers.Activation('swish')(H)  # 활성화 함수를 Dense에 넣지 않고 꺼내서 작성\n",
        "\n",
        "H = tf.keras.layers.Dense(8)(H)\n",
        "H = tf.keras.layers.BatchNormalization()(H)\n",
        "H = tf.keras.layers.Activation('swish')(H)\n",
        "\n",
        "H = tf.keras.layers.Dense(8)(H)\n",
        "H = tf.keras.layers.BatchNormalization()(H)\n",
        "H = tf.keras.layers.Activation('swish')(H)\n",
        "\n",
        "Y = tf.keras.layers.Dense(1)(H)\n",
        "model = tf.keras.models.Model(X, Y)\n",
        "model.compile(loss='mse')"
      ],
      "execution_count": 5,
      "outputs": []
    },
    {
      "cell_type": "markdown",
      "metadata": {
        "id": "mQ7HekteHV4u",
        "colab_type": "text"
      },
      "source": [
        "## 3. 모델 학습"
      ]
    },
    {
      "cell_type": "code",
      "metadata": {
        "id": "YWYN1WVRDUuy",
        "colab_type": "code",
        "colab": {
          "base_uri": "https://localhost:8080/",
          "height": 384
        },
        "outputId": "7d3bd4cf-5c8b-4003-def3-919082e8d7b2"
      },
      "source": [
        "model.fit(독립, 종속, epochs=1000, verbose=0)\n",
        "model.fit(독립, 종속, epochs=10 )"
      ],
      "execution_count": 9,
      "outputs": [
        {
          "output_type": "stream",
          "text": [
            "Epoch 1/10\n",
            "16/16 [==============================] - 0s 1ms/step - loss: 7.8137\n",
            "Epoch 2/10\n",
            "16/16 [==============================] - 0s 1ms/step - loss: 7.8493\n",
            "Epoch 3/10\n",
            "16/16 [==============================] - 0s 1ms/step - loss: 6.9587\n",
            "Epoch 4/10\n",
            "16/16 [==============================] - 0s 1ms/step - loss: 6.9060\n",
            "Epoch 5/10\n",
            "16/16 [==============================] - 0s 1ms/step - loss: 8.0912\n",
            "Epoch 6/10\n",
            "16/16 [==============================] - 0s 1ms/step - loss: 8.0160\n",
            "Epoch 7/10\n",
            "16/16 [==============================] - 0s 1ms/step - loss: 9.4072\n",
            "Epoch 8/10\n",
            "16/16 [==============================] - 0s 1ms/step - loss: 7.7556\n",
            "Epoch 9/10\n",
            "16/16 [==============================] - 0s 1ms/step - loss: 8.1021\n",
            "Epoch 10/10\n",
            "16/16 [==============================] - 0s 2ms/step - loss: 8.0103\n"
          ],
          "name": "stdout"
        },
        {
          "output_type": "execute_result",
          "data": {
            "text/plain": [
              "<tensorflow.python.keras.callbacks.History at 0x7f89e255b978>"
            ]
          },
          "metadata": {
            "tags": []
          },
          "execution_count": 9
        }
      ]
    },
    {
      "cell_type": "markdown",
      "metadata": {
        "id": "EzeQcoWwHdSs",
        "colab_type": "text"
      },
      "source": [
        "## 1. 데이터 준비"
      ]
    },
    {
      "cell_type": "code",
      "metadata": {
        "id": "IKW-ZnLzDarB",
        "colab_type": "code",
        "colab": {}
      },
      "source": [
        "파일경로 = 'https://raw.githubusercontent.com/blackdew/tensorflow1/master/csv/iris.csv'\n",
        "아이리스 = pd.read_csv(파일경로)"
      ],
      "execution_count": 10,
      "outputs": []
    },
    {
      "cell_type": "markdown",
      "metadata": {
        "id": "vC6NcfKEHfq9",
        "colab_type": "text"
      },
      "source": [
        "## 원핫인코딩"
      ]
    },
    {
      "cell_type": "code",
      "metadata": {
        "id": "RETEEj6nHhbd",
        "colab_type": "code",
        "colab": {}
      },
      "source": [
        "아이리스 = pd.get_dummies(아이리스)"
      ],
      "execution_count": 11,
      "outputs": []
    },
    {
      "cell_type": "markdown",
      "metadata": {
        "id": "3jNxjhkWHjwO",
        "colab_type": "text"
      },
      "source": [
        "## 종속변수, 독립변수 분리"
      ]
    },
    {
      "cell_type": "code",
      "metadata": {
        "id": "thbHb3ELHqEh",
        "colab_type": "code",
        "colab": {
          "base_uri": "https://localhost:8080/",
          "height": 34
        },
        "outputId": "3dbf8fb8-376a-4d5f-8524-50b548fb870d"
      },
      "source": [
        "독립 = 아이리스[['꽃잎길이', '꽃잎폭', '꽃받침길이', '꽃받침폭']]\n",
        "종속 = 아이리스[['품종_setosa', '품종_versicolor', '품종_virginica']]\n",
        "print(독립.shape, 종속.shape)"
      ],
      "execution_count": 12,
      "outputs": [
        {
          "output_type": "stream",
          "text": [
            "(150, 4) (150, 3)\n"
          ],
          "name": "stdout"
        }
      ]
    },
    {
      "cell_type": "markdown",
      "metadata": {
        "id": "PiaA0OPQHqx_",
        "colab_type": "text"
      },
      "source": [
        "## 2. 기존 모델 "
      ]
    },
    {
      "cell_type": "code",
      "metadata": {
        "id": "W938UWUaDfmZ",
        "colab_type": "code",
        "colab": {}
      },
      "source": [
        "#X = tf.keras.layers.Input(shape=[4])\n",
        "#H = tf.keras.layers.Dense(8, activation='swish')(X)\n",
        "#H = tf.keras.layers.Dense(8, activation='swish')(H)\n",
        "#H = tf.keras.layers.Dense(8, activation='swish')(H)\n",
        "#Y = tf.keras.layers.Dense(3, activation='softmax')(H)\n",
        "#model = tf.keras.models.Model(X, Y)\n",
        "#model.compile(loss='categorical_crossentropy', metrics='accuracy')"
      ],
      "execution_count": null,
      "outputs": []
    },
    {
      "cell_type": "markdown",
      "metadata": {
        "id": "QSi6q2WxHwUY",
        "colab_type": "text"
      },
      "source": [
        "## 2. BatchNormalization layer를 사용하여 모델 생성"
      ]
    },
    {
      "cell_type": "code",
      "metadata": {
        "id": "3VgmL8XQF92f",
        "colab_type": "code",
        "colab": {}
      },
      "source": [
        "X = tf.keras.layers.Input(shape=[4])\n",
        "\n",
        "H = tf.keras.layers.Dense(8)(X)\n",
        "H = tf.keras.layers.BatchNormalization()(H)\n",
        "H = tf.keras.layers.Activation('swish')(H)\n",
        "\n",
        "H = tf.keras.layers.Dense(8)(H)\n",
        "H = tf.keras.layers.BatchNormalization()(H)\n",
        "H = tf.keras.layers.Activation('swish')(H)\n",
        "\n",
        "H = tf.keras.layers.Dense(8)(H)\n",
        "H = tf.keras.layers.BatchNormalization()(H)\n",
        "H = tf.keras.layers.Activation('swish')(H)\n",
        "\n",
        "Y = tf.keras.layers.Dense(3, activation='softmax')(H)\n",
        "model = tf.keras.models.Model(X, Y)\n",
        "model.compile(loss='categorical_crossentropy',\n",
        "              metrics='accuracy')"
      ],
      "execution_count": 13,
      "outputs": []
    },
    {
      "cell_type": "markdown",
      "metadata": {
        "id": "xfd1WgskH0GK",
        "colab_type": "text"
      },
      "source": [
        "## 3. 모델 학습"
      ]
    },
    {
      "cell_type": "code",
      "metadata": {
        "id": "Jgyx86CqDjZ5",
        "colab_type": "code",
        "colab": {
          "base_uri": "https://localhost:8080/",
          "height": 384
        },
        "outputId": "26888388-506e-4b8b-f472-48fe94660f9c"
      },
      "source": [
        "model.fit(독립, 종속, epochs=1000, verbose=0)\n",
        "model.fit(독립, 종속, epochs=10 )"
      ],
      "execution_count": 14,
      "outputs": [
        {
          "output_type": "stream",
          "text": [
            "Epoch 1/10\n",
            "5/5 [==============================] - 0s 2ms/step - loss: 0.0314 - accuracy: 0.9867\n",
            "Epoch 2/10\n",
            "5/5 [==============================] - 0s 2ms/step - loss: 0.0192 - accuracy: 0.9933\n",
            "Epoch 3/10\n",
            "5/5 [==============================] - 0s 2ms/step - loss: 0.0444 - accuracy: 0.9867\n",
            "Epoch 4/10\n",
            "5/5 [==============================] - 0s 2ms/step - loss: 0.0405 - accuracy: 0.9800\n",
            "Epoch 5/10\n",
            "5/5 [==============================] - 0s 2ms/step - loss: 0.0517 - accuracy: 0.9867\n",
            "Epoch 6/10\n",
            "5/5 [==============================] - 0s 2ms/step - loss: 0.0570 - accuracy: 0.9733\n",
            "Epoch 7/10\n",
            "5/5 [==============================] - 0s 2ms/step - loss: 0.0451 - accuracy: 0.9800\n",
            "Epoch 8/10\n",
            "5/5 [==============================] - 0s 2ms/step - loss: 0.0678 - accuracy: 0.9733\n",
            "Epoch 9/10\n",
            "5/5 [==============================] - 0s 2ms/step - loss: 0.0704 - accuracy: 0.9800\n",
            "Epoch 10/10\n",
            "5/5 [==============================] - 0s 2ms/step - loss: 0.0339 - accuracy: 0.9867\n"
          ],
          "name": "stdout"
        },
        {
          "output_type": "execute_result",
          "data": {
            "text/plain": [
              "<tensorflow.python.keras.callbacks.History at 0x7f89e1995b00>"
            ]
          },
          "metadata": {
            "tags": []
          },
          "execution_count": 14
        }
      ]
    },
    {
      "cell_type": "code",
      "metadata": {
        "id": "4roNh3VGFobH",
        "colab_type": "code",
        "colab": {}
      },
      "source": [
        ""
      ],
      "execution_count": null,
      "outputs": []
    }
  ]
}